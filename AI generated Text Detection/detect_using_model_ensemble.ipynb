{
 "cells": [
  {
   "cell_type": "code",
   "execution_count": 1,
   "id": "5b7ef84d",
   "metadata": {
    "_cell_guid": "b1076dfc-b9ad-4769-8c92-a6c4dae69d19",
    "_uuid": "8f2839f25d086af736a60e9eeb907d3b93b6e0e5",
    "execution": {
     "iopub.execute_input": "2023-12-14T13:31:41.443141Z",
     "iopub.status.busy": "2023-12-14T13:31:41.442714Z",
     "iopub.status.idle": "2023-12-14T13:31:42.185740Z",
     "shell.execute_reply": "2023-12-14T13:31:42.184735Z"
    },
    "papermill": {
     "duration": 0.752637,
     "end_time": "2023-12-14T13:31:42.187943",
     "exception": false,
     "start_time": "2023-12-14T13:31:41.435306",
     "status": "completed"
    },
    "tags": []
   },
   "outputs": [
    {
     "name": "stdout",
     "output_type": "stream",
     "text": [
      "/kaggle/input/daigt-v2-train-dataset/train_v2_drcat_02.csv\n",
      "/kaggle/input/llm-detect-ai-generated-text/sample_submission.csv\n",
      "/kaggle/input/llm-detect-ai-generated-text/train_prompts.csv\n",
      "/kaggle/input/llm-detect-ai-generated-text/test_essays.csv\n",
      "/kaggle/input/llm-detect-ai-generated-text/train_essays.csv\n"
     ]
    }
   ],
   "source": [
    "# This Python 3 environment comes with many helpful analytics libraries installed\n",
    "# It is defined by the kaggle/python Docker image: https://github.com/kaggle/docker-python\n",
    "# For example, here's several helpful packages to load\n",
    "\n",
    "import numpy as np # linear algebra\n",
    "import pandas as pd # data processing, CSV file I/O (e.g. pd.read_csv)\n",
    "\n",
    "# Input data files are available in the read-only \"../input/\" directory\n",
    "# For example, running this (by clicking run or pressing Shift+Enter) will list all files under the input directory\n",
    "\n",
    "import os\n",
    "for dirname, _, filenames in os.walk('/kaggle/input'):\n",
    "    for filename in filenames:\n",
    "        print(os.path.join(dirname, filename))\n",
    "\n",
    "# You can write up to 20GB to the current directory (/kaggle/working/) that gets preserved as output when you create a version using \"Save & Run All\" \n",
    "# You can also write temporary files to /kaggle/temp/, but they won't be saved outside of the current session"
   ]
  },
  {
   "cell_type": "markdown",
   "id": "797c12b5",
   "metadata": {
    "papermill": {
     "duration": 0.005204,
     "end_time": "2023-12-14T13:31:42.198832",
     "exception": false,
     "start_time": "2023-12-14T13:31:42.193628",
     "status": "completed"
    },
    "tags": []
   },
   "source": [
    "## Detection of AI generated Text using Sentence peice construction\n",
    "\n",
    "### Inspiration and Credits 🙌\n",
    "This notebook is inspired by the work of s3nh, available at [this Kaggle project]( https://www.kaggle.com/code/hubert101/0-960-phrases-are-keys). I extend my gratitude to s3nh for sharing their insights and code.\n",
    "\n",
    "---\n",
    "\n",
    "### 🚀 How the Notebook Works:\n",
    "\n",
    "- **Data Loading:** Initial cell loads essential libraries and imports data from various CSV files.\n",
    "  \n",
    "- **Text Tokenization:** Utilizes Byte-Pair Encoding (BPE) for tokenization, creating a robust representation of text.\n",
    "\n",
    "- **TF-IDF Vectorization:** Implements TF-IDF vectorization on the tokenized texts, capturing important features.\n",
    "\n",
    "- **Model Training:** Constructs an ensemble of machine learning models (Multinomial Naive Bayes, SGD, LightGBM, CatBoost) to achieve optimal predictions.\n",
    "\n",
    "- **Submission Generation:** Generates predictions and outputs a submission file ('submission.csv').\n",
    "\n",
    "### All the best!"
   ]
  },
  {
   "cell_type": "code",
   "execution_count": 2,
   "id": "875637e4",
   "metadata": {
    "execution": {
     "iopub.execute_input": "2023-12-14T13:31:42.211249Z",
     "iopub.status.busy": "2023-12-14T13:31:42.210816Z",
     "iopub.status.idle": "2023-12-14T13:31:52.188049Z",
     "shell.execute_reply": "2023-12-14T13:31:52.187036Z"
    },
    "papermill": {
     "duration": 9.986179,
     "end_time": "2023-12-14T13:31:52.190526",
     "exception": false,
     "start_time": "2023-12-14T13:31:42.204347",
     "status": "completed"
    },
    "tags": []
   },
   "outputs": [
    {
     "name": "stderr",
     "output_type": "stream",
     "text": [
      "/opt/conda/lib/python3.10/site-packages/scipy/__init__.py:146: UserWarning: A NumPy version >=1.16.5 and <1.23.0 is required for this version of SciPy (detected version 1.24.3\n",
      "  warnings.warn(f\"A NumPy version >={np_minversion} and <{np_maxversion}\"\n",
      "/opt/conda/lib/python3.10/site-packages/dask/dataframe/_pyarrow_compat.py:23: UserWarning: You are using pyarrow version 11.0.0 which is known to be insecure. See https://www.cve.org/CVERecord?id=CVE-2023-47248 for further details. Please upgrade to pyarrow>=14.0.1 or install pyarrow-hotfix to patch your current version.\n",
      "  warnings.warn(\n"
     ]
    }
   ],
   "source": [
    "import sys\n",
    "import gc\n",
    "\n",
    "import pandas as pd\n",
    "import numpy as np\n",
    "\n",
    "from sklearn.model_selection import StratifiedKFold\n",
    "from sklearn.metrics import roc_auc_score\n",
    "from sklearn.feature_extraction.text import TfidfVectorizer\n",
    "\n",
    "from lightgbm import LGBMClassifier\n",
    "from catboost import CatBoostClassifier\n",
    "\n",
    "from tokenizers import (\n",
    "    decoders,\n",
    "    models,\n",
    "    normalizers,\n",
    "    pre_tokenizers,\n",
    "    processors,\n",
    "    trainers,\n",
    "    Tokenizer,\n",
    ")\n",
    "\n",
    "from datasets import Dataset\n",
    "from tqdm.auto import tqdm\n",
    "from transformers import PreTrainedTokenizerFast\n",
    "\n",
    "from sklearn.linear_model import SGDClassifier\n",
    "from sklearn.naive_bayes import MultinomialNB\n",
    "from sklearn.ensemble import VotingClassifier"
   ]
  },
  {
   "cell_type": "markdown",
   "id": "28b38967",
   "metadata": {
    "papermill": {
     "duration": 0.005335,
     "end_time": "2023-12-14T13:31:52.201774",
     "exception": false,
     "start_time": "2023-12-14T13:31:52.196439",
     "status": "completed"
    },
    "tags": []
   },
   "source": [
    "Read the data into train and test sets"
   ]
  },
  {
   "cell_type": "code",
   "execution_count": 3,
   "id": "b42f90f1",
   "metadata": {
    "execution": {
     "iopub.execute_input": "2023-12-14T13:31:52.216194Z",
     "iopub.status.busy": "2023-12-14T13:31:52.215483Z",
     "iopub.status.idle": "2023-12-14T13:31:54.750964Z",
     "shell.execute_reply": "2023-12-14T13:31:54.750156Z"
    },
    "papermill": {
     "duration": 2.544744,
     "end_time": "2023-12-14T13:31:54.753479",
     "exception": false,
     "start_time": "2023-12-14T13:31:52.208735",
     "status": "completed"
    },
    "tags": []
   },
   "outputs": [],
   "source": [
    "test = pd.read_csv('/kaggle/input/llm-detect-ai-generated-text/test_essays.csv')\n",
    "sub = pd.read_csv('/kaggle/input/llm-detect-ai-generated-text/sample_submission.csv')\n",
    "org_train = pd.read_csv('/kaggle/input/llm-detect-ai-generated-text/train_essays.csv')\n",
    "train = pd.read_csv(\"/kaggle/input/daigt-v2-train-dataset/train_v2_drcat_02.csv\", sep=',')"
   ]
  },
  {
   "cell_type": "markdown",
   "id": "2dc55e66",
   "metadata": {
    "papermill": {
     "duration": 0.005549,
     "end_time": "2023-12-14T13:31:54.765082",
     "exception": false,
     "start_time": "2023-12-14T13:31:54.759533",
     "status": "completed"
    },
    "tags": []
   },
   "source": [
    "Drop out duplicates from the trainset as well reset the indices"
   ]
  },
  {
   "cell_type": "code",
   "execution_count": 4,
   "id": "a2ba2181",
   "metadata": {
    "execution": {
     "iopub.execute_input": "2023-12-14T13:31:54.778099Z",
     "iopub.status.busy": "2023-12-14T13:31:54.777792Z",
     "iopub.status.idle": "2023-12-14T13:31:54.859429Z",
     "shell.execute_reply": "2023-12-14T13:31:54.858678Z"
    },
    "papermill": {
     "duration": 0.090423,
     "end_time": "2023-12-14T13:31:54.861442",
     "exception": false,
     "start_time": "2023-12-14T13:31:54.771019",
     "status": "completed"
    },
    "tags": []
   },
   "outputs": [],
   "source": [
    "train = train.drop_duplicates(subset=['text'])\n",
    "train.reset_index(drop=True, inplace=True)"
   ]
  },
  {
   "cell_type": "markdown",
   "id": "4135107e",
   "metadata": {
    "papermill": {
     "duration": 0.005339,
     "end_time": "2023-12-14T13:31:54.872772",
     "exception": false,
     "start_time": "2023-12-14T13:31:54.867433",
     "status": "completed"
    },
    "tags": []
   },
   "source": [
    "Make the text-processing case sensitive and define the VOCAB_SIZE as 30522"
   ]
  },
  {
   "cell_type": "code",
   "execution_count": 5,
   "id": "7ae11830",
   "metadata": {
    "execution": {
     "iopub.execute_input": "2023-12-14T13:31:54.885418Z",
     "iopub.status.busy": "2023-12-14T13:31:54.884777Z",
     "iopub.status.idle": "2023-12-14T13:31:54.889014Z",
     "shell.execute_reply": "2023-12-14T13:31:54.888053Z"
    },
    "papermill": {
     "duration": 0.012749,
     "end_time": "2023-12-14T13:31:54.891100",
     "exception": false,
     "start_time": "2023-12-14T13:31:54.878351",
     "status": "completed"
    },
    "tags": []
   },
   "outputs": [],
   "source": [
    "LOWERCASE = False\n",
    "VOCAB_SIZE = 30522"
   ]
  },
  {
   "cell_type": "markdown",
   "id": "980fc049",
   "metadata": {
    "papermill": {
     "duration": 0.005378,
     "end_time": "2023-12-14T13:31:54.902195",
     "exception": false,
     "start_time": "2023-12-14T13:31:54.896817",
     "status": "completed"
    },
    "tags": []
   },
   "source": [
    "## Byte Pair Encoding Tokenizer Training\n",
    "\n",
    "We will use the Byte-Pair Encoding tokenizer to tokenize the train and test data"
   ]
  },
  {
   "cell_type": "code",
   "execution_count": 6,
   "id": "b8c3a749",
   "metadata": {
    "execution": {
     "iopub.execute_input": "2023-12-14T13:31:54.914969Z",
     "iopub.status.busy": "2023-12-14T13:31:54.914685Z",
     "iopub.status.idle": "2023-12-14T13:33:50.942166Z",
     "shell.execute_reply": "2023-12-14T13:33:50.941195Z"
    },
    "papermill": {
     "duration": 116.036262,
     "end_time": "2023-12-14T13:33:50.944241",
     "exception": false,
     "start_time": "2023-12-14T13:31:54.907979",
     "status": "completed"
    },
    "tags": []
   },
   "outputs": [
    {
     "name": "stdout",
     "output_type": "stream",
     "text": [
      "\n",
      "\n",
      "\n"
     ]
    },
    {
     "name": "stderr",
     "output_type": "stream",
     "text": [
      "/opt/conda/lib/python3.10/site-packages/pyarrow/pandas_compat.py:373: FutureWarning: is_sparse is deprecated and will be removed in a future version. Check `isinstance(dtype, pd.SparseDtype)` instead.\n",
      "  if _pandas_api.is_sparse(col):\n"
     ]
    },
    {
     "data": {
      "application/vnd.jupyter.widget-view+json": {
       "model_id": "782a20c227524c85b3551eab657eebbe",
       "version_major": 2,
       "version_minor": 0
      },
      "text/plain": [
       "  0%|          | 0/3 [00:00<?, ?it/s]"
      ]
     },
     "metadata": {},
     "output_type": "display_data"
    },
    {
     "data": {
      "application/vnd.jupyter.widget-view+json": {
       "model_id": "0f889b4bdc3c401b9dce640800f1c92c",
       "version_major": 2,
       "version_minor": 0
      },
      "text/plain": [
       "  0%|          | 0/44868 [00:00<?, ?it/s]"
      ]
     },
     "metadata": {},
     "output_type": "display_data"
    }
   ],
   "source": [
    "# Creating Byte-Pair Encoding tokenizer\n",
    "raw_tokenizer = Tokenizer(models.BPE(unk_token=\"[UNK]\"))\n",
    "raw_tokenizer.normalizer = normalizers.Sequence([normalizers.NFC()] + [normalizers.Lowercase()] if LOWERCASE else [])\n",
    "raw_tokenizer.pre_tokenizer = pre_tokenizers.ByteLevel()\n",
    "special_tokens = [\"[UNK]\", \"[PAD]\", \"[CLS]\", \"[SEP]\", \"[MASK]\"]\n",
    "trainer = trainers.BpeTrainer(vocab_size=VOCAB_SIZE, special_tokens=special_tokens)\n",
    "dataset = Dataset.from_pandas(test[['text']])\n",
    "def train_corp_iter(): \n",
    "    for i in range(0, len(dataset), 1000):\n",
    "        yield dataset[i : i + 1000][\"text\"]\n",
    "raw_tokenizer.train_from_iterator(train_corp_iter(), trainer=trainer)\n",
    "tokenizer = PreTrainedTokenizerFast(\n",
    "    tokenizer_object=raw_tokenizer,\n",
    "    unk_token=\"[UNK]\",\n",
    "    pad_token=\"[PAD]\",\n",
    "    cls_token=\"[CLS]\",\n",
    "    sep_token=\"[SEP]\",\n",
    "    mask_token=\"[MASK]\",\n",
    ")\n",
    "tokenized_texts_test = []\n",
    "\n",
    "for text in tqdm(test['text'].tolist()):\n",
    "    tokenized_texts_test.append(tokenizer.tokenize(text))\n",
    "\n",
    "tokenized_texts_train = []\n",
    "\n",
    "for text in tqdm(train['text'].tolist()):\n",
    "    tokenized_texts_train.append(tokenizer.tokenize(text))"
   ]
  },
  {
   "cell_type": "markdown",
   "id": "a016e230",
   "metadata": {
    "papermill": {
     "duration": 0.005785,
     "end_time": "2023-12-14T13:33:50.956462",
     "exception": false,
     "start_time": "2023-12-14T13:33:50.950677",
     "status": "completed"
    },
    "tags": []
   },
   "source": [
    "## TF-IDF Vectorization\n",
    "\n",
    "We will use TF-IDF Vectorization technique to extract important features from the tokenized train and test data. \n",
    "\n",
    "We first configure the vectorizer on the test data to obtain a vocabulary and then we reconfigure the vectorizer using the vobcabulary to generate. Tf-Idf features from the tokens of the train data.\n",
    "\n",
    "NOTE: The dummy function is defined as a placeholder for the TF-Idf Vectorizer"
   ]
  },
  {
   "cell_type": "code",
   "execution_count": 7,
   "id": "3bdfe99a",
   "metadata": {
    "execution": {
     "iopub.execute_input": "2023-12-14T13:33:50.970018Z",
     "iopub.status.busy": "2023-12-14T13:33:50.969684Z",
     "iopub.status.idle": "2023-12-14T13:33:50.973905Z",
     "shell.execute_reply": "2023-12-14T13:33:50.973032Z"
    },
    "papermill": {
     "duration": 0.013246,
     "end_time": "2023-12-14T13:33:50.975757",
     "exception": false,
     "start_time": "2023-12-14T13:33:50.962511",
     "status": "completed"
    },
    "tags": []
   },
   "outputs": [],
   "source": [
    "def dummy(text):\n",
    "    return text"
   ]
  },
  {
   "cell_type": "code",
   "execution_count": 8,
   "id": "e8a40802",
   "metadata": {
    "execution": {
     "iopub.execute_input": "2023-12-14T13:33:50.989221Z",
     "iopub.status.busy": "2023-12-14T13:33:50.988929Z",
     "iopub.status.idle": "2023-12-14T13:38:05.077698Z",
     "shell.execute_reply": "2023-12-14T13:38:05.076768Z"
    },
    "papermill": {
     "duration": 254.104137,
     "end_time": "2023-12-14T13:38:05.086136",
     "exception": false,
     "start_time": "2023-12-14T13:33:50.981999",
     "status": "completed"
    },
    "tags": []
   },
   "outputs": [
    {
     "name": "stdout",
     "output_type": "stream",
     "text": [
      "{'ĠAaa Ġbbb Ġccc': 0, 'Ġbbb Ġccc .': 6, 'ĠAaa Ġbbb Ġccc .': 1, 'ĠBbb Ġccc Ġddd': 2, 'Ġccc Ġddd .': 7, 'ĠBbb Ġccc Ġddd .': 3, 'ĠCCC Ġddd Ġeee': 4, 'Ġddd Ġeee .': 8, 'ĠCCC Ġddd Ġeee .': 5}\n"
     ]
    },
    {
     "data": {
      "text/plain": [
       "53"
      ]
     },
     "execution_count": 8,
     "metadata": {},
     "output_type": "execute_result"
    }
   ],
   "source": [
    "vectorizer = TfidfVectorizer(ngram_range=(3, 5), lowercase=False, sublinear_tf=True, analyzer = 'word',\n",
    "    tokenizer = dummy,\n",
    "    preprocessor = dummy,\n",
    "    token_pattern = None, strip_accents='unicode')\n",
    "\n",
    "vectorizer.fit(tokenized_texts_test)\n",
    "\n",
    "# Getting vocab\n",
    "vocab = vectorizer.vocabulary_\n",
    "\n",
    "print(vocab)\n",
    "\n",
    "vectorizer = TfidfVectorizer(ngram_range=(3, 5), lowercase=False, sublinear_tf=True, vocabulary=vocab,\n",
    "                            analyzer = 'word',\n",
    "                            tokenizer = dummy,\n",
    "                            preprocessor = dummy,\n",
    "                            token_pattern = None, strip_accents='unicode'\n",
    "                            )\n",
    "\n",
    "tf_train = vectorizer.fit_transform(tokenized_texts_train)\n",
    "tf_test = vectorizer.transform(tokenized_texts_test)\n",
    "\n",
    "del vectorizer\n",
    "gc.collect()"
   ]
  },
  {
   "cell_type": "markdown",
   "id": "cdf9fec7",
   "metadata": {
    "papermill": {
     "duration": 0.006154,
     "end_time": "2023-12-14T13:38:05.099233",
     "exception": false,
     "start_time": "2023-12-14T13:38:05.093079",
     "status": "completed"
    },
    "tags": []
   },
   "source": [
    "Extract the train labels"
   ]
  },
  {
   "cell_type": "code",
   "execution_count": 9,
   "id": "330456b9",
   "metadata": {
    "execution": {
     "iopub.execute_input": "2023-12-14T13:38:05.113402Z",
     "iopub.status.busy": "2023-12-14T13:38:05.113067Z",
     "iopub.status.idle": "2023-12-14T13:38:05.118417Z",
     "shell.execute_reply": "2023-12-14T13:38:05.117625Z"
    },
    "papermill": {
     "duration": 0.01462,
     "end_time": "2023-12-14T13:38:05.120265",
     "exception": false,
     "start_time": "2023-12-14T13:38:05.105645",
     "status": "completed"
    },
    "tags": []
   },
   "outputs": [],
   "source": [
    "y_train = train['label'].values"
   ]
  },
  {
   "cell_type": "markdown",
   "id": "98867ac2",
   "metadata": {
    "papermill": {
     "duration": 0.006451,
     "end_time": "2023-12-14T13:38:05.133185",
     "exception": false,
     "start_time": "2023-12-14T13:38:05.126734",
     "status": "completed"
    },
    "tags": []
   },
   "source": [
    "## Model Training and Prediction\n",
    "\n",
    "This cell involves training a combination of machine learning models and generating predictions. \n",
    "\n",
    "1. **Checking Test Data Size:**\n",
    "   ```python\n",
    "   if len(test.text.values) <= 5:\n",
    "       sub.to_csv('submission.csv', index=False)\n",
    "   ```\n",
    "   - Checks if the size of the test data is less than or equal to 5. If true, it writes the existing submission (`sub`) to a CSV file named 'submission.csv' and exits the cell.\n",
    "   - This condition may be added as a safeguard or for special handling when dealing with very small datasets.\n",
    "\n",
    "2. **Machine Learning Models Configuration and Training:**\n",
    "   ```python\n",
    "   else:\n",
    "       clf = MultinomialNB(alpha=0.02)\n",
    "       sgd_model = SGDClassifier(max_iter=8000, tol=1e-4, loss=\"modified_huber\") \n",
    "       p6 = {'n_iter': 2500, 'verbose': -1, 'objective': 'cross_entropy', 'metric': 'auc',\n",
    "             'learning_rate': 0.05073909898961407, 'colsample_bytree': 0.726023996436955,\n",
    "             'colsample_bynode': 0.5803681307354022, 'lambda_l1': 8.562963348932286, \n",
    "             'lambda_l2': 4.893256185259296, 'min_data_in_leaf': 115, 'max_depth': 23, 'max_bin': 898}\n",
    "       lgb = LGBMClassifier(**p6)\n",
    "       cat = CatBoostClassifier(iterations=2000,\n",
    "                                verbose=0,\n",
    "                                l2_leaf_reg=6.6591278779517808,\n",
    "                                learning_rate=0.005689066836106983,\n",
    "                                subsample=0.4,\n",
    "                                allow_const_label=True, loss_function='CrossEntropy')\n",
    "   ```\n",
    "   - Configures three machine learning models: Multinomial Naive Bayes (`clf`), Stochastic Gradient Descent (`sgd_model`), LightGBM (`lgb`), and CatBoost (`cat`).\n",
    "   - The parameters for LightGBM (`p6`) are specified separately.\n",
    "\n",
    "3. **Configuring Ensemble Model:**\n",
    "   ```python\n",
    "       weights = [0.07, 0.31, 0.31, 0.31]\n",
    "       ensemble = VotingClassifier(estimators=[('mnb', clf),\n",
    "                                               ('sgd', sgd_model),\n",
    "                                               ('lgb', lgb), \n",
    "                                               ('cat', cat)],\n",
    "                                   weights=weights, voting='soft', n_jobs=-1)\n",
    "   ```\n",
    "   - Creates an ensemble model (`ensemble`) using a soft voting strategy, where each model contributes its probability estimates.\n",
    "   - The ensemble consists of the Multinomial Naive Bayes, Stochastic Gradient Descent, LightGBM, and CatBoost classifiers, with specified weights.\n",
    "\n",
    "4. **Training Ensemble Model:**\n",
    "   ```python\n",
    "       ensemble.fit(tf_train, y_train)\n",
    "   ```\n",
    "   - Fits the ensemble model on the TF-IDF transformed train data (`tf_train`) with the corresponding target labels (`y_train`).\n",
    "\n",
    "5. **Generating Predictions:**\n",
    "   ```python\n",
    "       gc.collect()\n",
    "       final_preds = ensemble.predict_proba(tf_test)[:, 1]\n",
    "       sub['generated'] = final_preds\n",
    "   ```\n",
    "   - Performs garbage collection to free up memory.\n",
    "   - Generates final predictions using the trained ensemble model on the TF-IDF transformed test data (`tf_test`).\n",
    "   - Adds the generated predictions to the 'generated' column in the `sub` DataFrame.\n",
    "\n",
    "6. **Saving Submission File:**\n",
    "   ```python\n",
    "       sub.to_csv('submission.csv', index=False)\n",
    "       sub\n",
    "   ```\n",
    "   - Writes the updated `sub` DataFrame, including the generated predictions, to a CSV file named 'submission.csv'.\n",
    "   - Prints the `sub` DataFrame, possibly for inspection.\n",
    "\n"
   ]
  },
  {
   "cell_type": "code",
   "execution_count": 10,
   "id": "7ebc0294",
   "metadata": {
    "execution": {
     "iopub.execute_input": "2023-12-14T13:38:05.148460Z",
     "iopub.status.busy": "2023-12-14T13:38:05.147839Z",
     "iopub.status.idle": "2023-12-14T13:38:05.162964Z",
     "shell.execute_reply": "2023-12-14T13:38:05.162120Z"
    },
    "papermill": {
     "duration": 0.025415,
     "end_time": "2023-12-14T13:38:05.164840",
     "exception": false,
     "start_time": "2023-12-14T13:38:05.139425",
     "status": "completed"
    },
    "tags": []
   },
   "outputs": [],
   "source": [
    "if len(test.text.values) <= 5:\n",
    "    sub.to_csv('submission.csv', index=False)\n",
    "else:\n",
    "    clf = MultinomialNB(alpha=0.02)\n",
    "#     clf2 = MultinomialNB(alpha=0.01)\n",
    "    sgd_model = SGDClassifier(max_iter=8000, tol=1e-4, loss=\"modified_huber\") \n",
    "    p6={'n_iter': 2500,'verbose': -1,'objective': 'cross_entropy','metric': 'auc',\n",
    "        'learning_rate': 0.05081909898961407, 'colsample_bytree': 0.726023996436955,\n",
    "        'colsample_bynode': 0.5803681307354022, 'lambda_l1': 8.562963348932286, \n",
    "        'lambda_l2': 4.893256185259296, 'min_data_in_leaf': 115, 'max_depth': 23, 'max_bin': 898}\n",
    "    lgb=LGBMClassifier(**p6)\n",
    "    cat=CatBoostClassifier(iterations=2000,\n",
    "                           verbose=0,\n",
    "                           l2_leaf_reg=6.6591278779517808,\n",
    "                           learning_rate=0.005599066836106983,\n",
    "                           subsample = 0.4,\n",
    "                           allow_const_label=True,loss_function = 'CrossEntropy')\n",
    "    weights = [0.07,0.31,0.31,0.31]\n",
    " \n",
    "    ensemble = VotingClassifier(estimators=[('mnb',clf),\n",
    "                                            ('sgd', sgd_model),\n",
    "                                            ('lgb',lgb), \n",
    "                                            ('cat', cat)\n",
    "                                           ],\n",
    "                                weights=weights, voting='soft', n_jobs=-1)\n",
    "    ensemble.fit(tf_train, y_train)\n",
    "    gc.collect()\n",
    "    final_preds = ensemble.predict_proba(tf_test)[:,1]\n",
    "    sub['generated'] = final_preds\n",
    "    sub.to_csv('submission.csv', index=False)\n",
    "    sub"
   ]
  },
  {
   "cell_type": "code",
   "execution_count": 11,
   "id": "ea9f23b3",
   "metadata": {
    "execution": {
     "iopub.execute_input": "2023-12-14T13:38:05.179083Z",
     "iopub.status.busy": "2023-12-14T13:38:05.178777Z",
     "iopub.status.idle": "2023-12-14T13:38:05.190801Z",
     "shell.execute_reply": "2023-12-14T13:38:05.189938Z"
    },
    "papermill": {
     "duration": 0.021721,
     "end_time": "2023-12-14T13:38:05.193027",
     "exception": false,
     "start_time": "2023-12-14T13:38:05.171306",
     "status": "completed"
    },
    "tags": []
   },
   "outputs": [
    {
     "data": {
      "text/html": [
       "<div>\n",
       "<style scoped>\n",
       "    .dataframe tbody tr th:only-of-type {\n",
       "        vertical-align: middle;\n",
       "    }\n",
       "\n",
       "    .dataframe tbody tr th {\n",
       "        vertical-align: top;\n",
       "    }\n",
       "\n",
       "    .dataframe thead th {\n",
       "        text-align: right;\n",
       "    }\n",
       "</style>\n",
       "<table border=\"1\" class=\"dataframe\">\n",
       "  <thead>\n",
       "    <tr style=\"text-align: right;\">\n",
       "      <th></th>\n",
       "      <th>id</th>\n",
       "      <th>generated</th>\n",
       "    </tr>\n",
       "  </thead>\n",
       "  <tbody>\n",
       "    <tr>\n",
       "      <th>0</th>\n",
       "      <td>0000aaaa</td>\n",
       "      <td>0.1</td>\n",
       "    </tr>\n",
       "    <tr>\n",
       "      <th>1</th>\n",
       "      <td>1111bbbb</td>\n",
       "      <td>0.9</td>\n",
       "    </tr>\n",
       "    <tr>\n",
       "      <th>2</th>\n",
       "      <td>2222cccc</td>\n",
       "      <td>0.4</td>\n",
       "    </tr>\n",
       "  </tbody>\n",
       "</table>\n",
       "</div>"
      ],
      "text/plain": [
       "         id  generated\n",
       "0  0000aaaa        0.1\n",
       "1  1111bbbb        0.9\n",
       "2  2222cccc        0.4"
      ]
     },
     "execution_count": 11,
     "metadata": {},
     "output_type": "execute_result"
    }
   ],
   "source": [
    "sub"
   ]
  },
  {
   "cell_type": "code",
   "execution_count": null,
   "id": "73916515",
   "metadata": {
    "papermill": {
     "duration": 0.006309,
     "end_time": "2023-12-14T13:38:05.205819",
     "exception": false,
     "start_time": "2023-12-14T13:38:05.199510",
     "status": "completed"
    },
    "tags": []
   },
   "outputs": [],
   "source": []
  }
 ],
 "metadata": {
  "kaggle": {
   "accelerator": "gpu",
   "dataSources": [
    {
     "databundleVersionId": 6888007,
     "sourceId": 61542,
     "sourceType": "competition"
    },
    {
     "datasetId": 4005256,
     "sourceId": 6977472,
     "sourceType": "datasetVersion"
    }
   ],
   "dockerImageVersionId": 30587,
   "isGpuEnabled": true,
   "isInternetEnabled": false,
   "language": "python",
   "sourceType": "notebook"
  },
  "kernelspec": {
   "display_name": "Python 3",
   "language": "python",
   "name": "python3"
  },
  "language_info": {
   "codemirror_mode": {
    "name": "ipython",
    "version": 3
   },
   "file_extension": ".py",
   "mimetype": "text/x-python",
   "name": "python",
   "nbconvert_exporter": "python",
   "pygments_lexer": "ipython3",
   "version": "3.10.12"
  },
  "papermill": {
   "default_parameters": {},
   "duration": 389.965813,
   "end_time": "2023-12-14T13:38:08.032684",
   "environment_variables": {},
   "exception": null,
   "input_path": "__notebook__.ipynb",
   "output_path": "__notebook__.ipynb",
   "parameters": {},
   "start_time": "2023-12-14T13:31:38.066871",
   "version": "2.4.0"
  },
  "widgets": {
   "application/vnd.jupyter.widget-state+json": {
    "state": {
     "05bb340e80254d80bc564d5c6b52456b": {
      "model_module": "@jupyter-widgets/controls",
      "model_module_version": "1.5.0",
      "model_name": "FloatProgressModel",
      "state": {
       "_dom_classes": [],
       "_model_module": "@jupyter-widgets/controls",
       "_model_module_version": "1.5.0",
       "_model_name": "FloatProgressModel",
       "_view_count": null,
       "_view_module": "@jupyter-widgets/controls",
       "_view_module_version": "1.5.0",
       "_view_name": "ProgressView",
       "bar_style": "success",
       "description": "",
       "description_tooltip": null,
       "layout": "IPY_MODEL_6808f1e5eafb436c9aaa023aebf57f20",
       "max": 3.0,
       "min": 0.0,
       "orientation": "horizontal",
       "style": "IPY_MODEL_9882651a2d29434a93a9a10ea99da586",
       "value": 3.0
      }
     },
     "0a8aa9c10a604f398301d21256543e94": {
      "model_module": "@jupyter-widgets/controls",
      "model_module_version": "1.5.0",
      "model_name": "DescriptionStyleModel",
      "state": {
       "_model_module": "@jupyter-widgets/controls",
       "_model_module_version": "1.5.0",
       "_model_name": "DescriptionStyleModel",
       "_view_count": null,
       "_view_module": "@jupyter-widgets/base",
       "_view_module_version": "1.2.0",
       "_view_name": "StyleView",
       "description_width": ""
      }
     },
     "0f889b4bdc3c401b9dce640800f1c92c": {
      "model_module": "@jupyter-widgets/controls",
      "model_module_version": "1.5.0",
      "model_name": "HBoxModel",
      "state": {
       "_dom_classes": [],
       "_model_module": "@jupyter-widgets/controls",
       "_model_module_version": "1.5.0",
       "_model_name": "HBoxModel",
       "_view_count": null,
       "_view_module": "@jupyter-widgets/controls",
       "_view_module_version": "1.5.0",
       "_view_name": "HBoxView",
       "box_style": "",
       "children": [
        "IPY_MODEL_890574f00be74cc4a910d623b867d32d",
        "IPY_MODEL_e36e6f2a72a74ca78e6182de42fd4776",
        "IPY_MODEL_86f2426082e84cd69fdc70642df03cd7"
       ],
       "layout": "IPY_MODEL_e8a23e4109b34c1ea3ea8920bbf34bea"
      }
     },
     "0f8fba9de2b84a419a3a60bc27bcee32": {
      "model_module": "@jupyter-widgets/controls",
      "model_module_version": "1.5.0",
      "model_name": "HTMLModel",
      "state": {
       "_dom_classes": [],
       "_model_module": "@jupyter-widgets/controls",
       "_model_module_version": "1.5.0",
       "_model_name": "HTMLModel",
       "_view_count": null,
       "_view_module": "@jupyter-widgets/controls",
       "_view_module_version": "1.5.0",
       "_view_name": "HTMLView",
       "description": "",
       "description_tooltip": null,
       "layout": "IPY_MODEL_9ee4adb5fd3d469c9773f37b430d4606",
       "placeholder": "​",
       "style": "IPY_MODEL_8bd7928dd7ad4ce18dd6e33df842d1ab",
       "value": "100%"
      }
     },
     "0fc1a926e5294285a478b6bd46a5051b": {
      "model_module": "@jupyter-widgets/controls",
      "model_module_version": "1.5.0",
      "model_name": "ProgressStyleModel",
      "state": {
       "_model_module": "@jupyter-widgets/controls",
       "_model_module_version": "1.5.0",
       "_model_name": "ProgressStyleModel",
       "_view_count": null,
       "_view_module": "@jupyter-widgets/base",
       "_view_module_version": "1.2.0",
       "_view_name": "StyleView",
       "bar_color": null,
       "description_width": ""
      }
     },
     "12b6a30f148a493fb006a2be509f9d4d": {
      "model_module": "@jupyter-widgets/base",
      "model_module_version": "1.2.0",
      "model_name": "LayoutModel",
      "state": {
       "_model_module": "@jupyter-widgets/base",
       "_model_module_version": "1.2.0",
       "_model_name": "LayoutModel",
       "_view_count": null,
       "_view_module": "@jupyter-widgets/base",
       "_view_module_version": "1.2.0",
       "_view_name": "LayoutView",
       "align_content": null,
       "align_items": null,
       "align_self": null,
       "border": null,
       "bottom": null,
       "display": null,
       "flex": null,
       "flex_flow": null,
       "grid_area": null,
       "grid_auto_columns": null,
       "grid_auto_flow": null,
       "grid_auto_rows": null,
       "grid_column": null,
       "grid_gap": null,
       "grid_row": null,
       "grid_template_areas": null,
       "grid_template_columns": null,
       "grid_template_rows": null,
       "height": null,
       "justify_content": null,
       "justify_items": null,
       "left": null,
       "margin": null,
       "max_height": null,
       "max_width": null,
       "min_height": null,
       "min_width": null,
       "object_fit": null,
       "object_position": null,
       "order": null,
       "overflow": null,
       "overflow_x": null,
       "overflow_y": null,
       "padding": null,
       "right": null,
       "top": null,
       "visibility": null,
       "width": null
      }
     },
     "17880a268ec449a9babfeec8195d2e84": {
      "model_module": "@jupyter-widgets/base",
      "model_module_version": "1.2.0",
      "model_name": "LayoutModel",
      "state": {
       "_model_module": "@jupyter-widgets/base",
       "_model_module_version": "1.2.0",
       "_model_name": "LayoutModel",
       "_view_count": null,
       "_view_module": "@jupyter-widgets/base",
       "_view_module_version": "1.2.0",
       "_view_name": "LayoutView",
       "align_content": null,
       "align_items": null,
       "align_self": null,
       "border": null,
       "bottom": null,
       "display": null,
       "flex": null,
       "flex_flow": null,
       "grid_area": null,
       "grid_auto_columns": null,
       "grid_auto_flow": null,
       "grid_auto_rows": null,
       "grid_column": null,
       "grid_gap": null,
       "grid_row": null,
       "grid_template_areas": null,
       "grid_template_columns": null,
       "grid_template_rows": null,
       "height": null,
       "justify_content": null,
       "justify_items": null,
       "left": null,
       "margin": null,
       "max_height": null,
       "max_width": null,
       "min_height": null,
       "min_width": null,
       "object_fit": null,
       "object_position": null,
       "order": null,
       "overflow": null,
       "overflow_x": null,
       "overflow_y": null,
       "padding": null,
       "right": null,
       "top": null,
       "visibility": null,
       "width": null
      }
     },
     "1b9c5bf2e0ee48a6bccf09afb409f178": {
      "model_module": "@jupyter-widgets/base",
      "model_module_version": "1.2.0",
      "model_name": "LayoutModel",
      "state": {
       "_model_module": "@jupyter-widgets/base",
       "_model_module_version": "1.2.0",
       "_model_name": "LayoutModel",
       "_view_count": null,
       "_view_module": "@jupyter-widgets/base",
       "_view_module_version": "1.2.0",
       "_view_name": "LayoutView",
       "align_content": null,
       "align_items": null,
       "align_self": null,
       "border": null,
       "bottom": null,
       "display": null,
       "flex": null,
       "flex_flow": null,
       "grid_area": null,
       "grid_auto_columns": null,
       "grid_auto_flow": null,
       "grid_auto_rows": null,
       "grid_column": null,
       "grid_gap": null,
       "grid_row": null,
       "grid_template_areas": null,
       "grid_template_columns": null,
       "grid_template_rows": null,
       "height": null,
       "justify_content": null,
       "justify_items": null,
       "left": null,
       "margin": null,
       "max_height": null,
       "max_width": null,
       "min_height": null,
       "min_width": null,
       "object_fit": null,
       "object_position": null,
       "order": null,
       "overflow": null,
       "overflow_x": null,
       "overflow_y": null,
       "padding": null,
       "right": null,
       "top": null,
       "visibility": null,
       "width": null
      }
     },
     "452cecb2674049a2b936aa0474a5a2bf": {
      "model_module": "@jupyter-widgets/controls",
      "model_module_version": "1.5.0",
      "model_name": "DescriptionStyleModel",
      "state": {
       "_model_module": "@jupyter-widgets/controls",
       "_model_module_version": "1.5.0",
       "_model_name": "DescriptionStyleModel",
       "_view_count": null,
       "_view_module": "@jupyter-widgets/base",
       "_view_module_version": "1.2.0",
       "_view_name": "StyleView",
       "description_width": ""
      }
     },
     "6808f1e5eafb436c9aaa023aebf57f20": {
      "model_module": "@jupyter-widgets/base",
      "model_module_version": "1.2.0",
      "model_name": "LayoutModel",
      "state": {
       "_model_module": "@jupyter-widgets/base",
       "_model_module_version": "1.2.0",
       "_model_name": "LayoutModel",
       "_view_count": null,
       "_view_module": "@jupyter-widgets/base",
       "_view_module_version": "1.2.0",
       "_view_name": "LayoutView",
       "align_content": null,
       "align_items": null,
       "align_self": null,
       "border": null,
       "bottom": null,
       "display": null,
       "flex": null,
       "flex_flow": null,
       "grid_area": null,
       "grid_auto_columns": null,
       "grid_auto_flow": null,
       "grid_auto_rows": null,
       "grid_column": null,
       "grid_gap": null,
       "grid_row": null,
       "grid_template_areas": null,
       "grid_template_columns": null,
       "grid_template_rows": null,
       "height": null,
       "justify_content": null,
       "justify_items": null,
       "left": null,
       "margin": null,
       "max_height": null,
       "max_width": null,
       "min_height": null,
       "min_width": null,
       "object_fit": null,
       "object_position": null,
       "order": null,
       "overflow": null,
       "overflow_x": null,
       "overflow_y": null,
       "padding": null,
       "right": null,
       "top": null,
       "visibility": null,
       "width": null
      }
     },
     "782a20c227524c85b3551eab657eebbe": {
      "model_module": "@jupyter-widgets/controls",
      "model_module_version": "1.5.0",
      "model_name": "HBoxModel",
      "state": {
       "_dom_classes": [],
       "_model_module": "@jupyter-widgets/controls",
       "_model_module_version": "1.5.0",
       "_model_name": "HBoxModel",
       "_view_count": null,
       "_view_module": "@jupyter-widgets/controls",
       "_view_module_version": "1.5.0",
       "_view_name": "HBoxView",
       "box_style": "",
       "children": [
        "IPY_MODEL_0f8fba9de2b84a419a3a60bc27bcee32",
        "IPY_MODEL_05bb340e80254d80bc564d5c6b52456b",
        "IPY_MODEL_e2483fa727ff45c09de4923a5593f9d1"
       ],
       "layout": "IPY_MODEL_941ae3da28f74ef9b447b445b3ac56f3"
      }
     },
     "86f2426082e84cd69fdc70642df03cd7": {
      "model_module": "@jupyter-widgets/controls",
      "model_module_version": "1.5.0",
      "model_name": "HTMLModel",
      "state": {
       "_dom_classes": [],
       "_model_module": "@jupyter-widgets/controls",
       "_model_module_version": "1.5.0",
       "_model_name": "HTMLModel",
       "_view_count": null,
       "_view_module": "@jupyter-widgets/controls",
       "_view_module_version": "1.5.0",
       "_view_name": "HTMLView",
       "description": "",
       "description_tooltip": null,
       "layout": "IPY_MODEL_17880a268ec449a9babfeec8195d2e84",
       "placeholder": "​",
       "style": "IPY_MODEL_0a8aa9c10a604f398301d21256543e94",
       "value": " 44868/44868 [01:55&lt;00:00, 390.58it/s]"
      }
     },
     "890574f00be74cc4a910d623b867d32d": {
      "model_module": "@jupyter-widgets/controls",
      "model_module_version": "1.5.0",
      "model_name": "HTMLModel",
      "state": {
       "_dom_classes": [],
       "_model_module": "@jupyter-widgets/controls",
       "_model_module_version": "1.5.0",
       "_model_name": "HTMLModel",
       "_view_count": null,
       "_view_module": "@jupyter-widgets/controls",
       "_view_module_version": "1.5.0",
       "_view_name": "HTMLView",
       "description": "",
       "description_tooltip": null,
       "layout": "IPY_MODEL_1b9c5bf2e0ee48a6bccf09afb409f178",
       "placeholder": "​",
       "style": "IPY_MODEL_8f5215be59f044c4b7dfcd4a03649745",
       "value": "100%"
      }
     },
     "8bd7928dd7ad4ce18dd6e33df842d1ab": {
      "model_module": "@jupyter-widgets/controls",
      "model_module_version": "1.5.0",
      "model_name": "DescriptionStyleModel",
      "state": {
       "_model_module": "@jupyter-widgets/controls",
       "_model_module_version": "1.5.0",
       "_model_name": "DescriptionStyleModel",
       "_view_count": null,
       "_view_module": "@jupyter-widgets/base",
       "_view_module_version": "1.2.0",
       "_view_name": "StyleView",
       "description_width": ""
      }
     },
     "8f5215be59f044c4b7dfcd4a03649745": {
      "model_module": "@jupyter-widgets/controls",
      "model_module_version": "1.5.0",
      "model_name": "DescriptionStyleModel",
      "state": {
       "_model_module": "@jupyter-widgets/controls",
       "_model_module_version": "1.5.0",
       "_model_name": "DescriptionStyleModel",
       "_view_count": null,
       "_view_module": "@jupyter-widgets/base",
       "_view_module_version": "1.2.0",
       "_view_name": "StyleView",
       "description_width": ""
      }
     },
     "941ae3da28f74ef9b447b445b3ac56f3": {
      "model_module": "@jupyter-widgets/base",
      "model_module_version": "1.2.0",
      "model_name": "LayoutModel",
      "state": {
       "_model_module": "@jupyter-widgets/base",
       "_model_module_version": "1.2.0",
       "_model_name": "LayoutModel",
       "_view_count": null,
       "_view_module": "@jupyter-widgets/base",
       "_view_module_version": "1.2.0",
       "_view_name": "LayoutView",
       "align_content": null,
       "align_items": null,
       "align_self": null,
       "border": null,
       "bottom": null,
       "display": null,
       "flex": null,
       "flex_flow": null,
       "grid_area": null,
       "grid_auto_columns": null,
       "grid_auto_flow": null,
       "grid_auto_rows": null,
       "grid_column": null,
       "grid_gap": null,
       "grid_row": null,
       "grid_template_areas": null,
       "grid_template_columns": null,
       "grid_template_rows": null,
       "height": null,
       "justify_content": null,
       "justify_items": null,
       "left": null,
       "margin": null,
       "max_height": null,
       "max_width": null,
       "min_height": null,
       "min_width": null,
       "object_fit": null,
       "object_position": null,
       "order": null,
       "overflow": null,
       "overflow_x": null,
       "overflow_y": null,
       "padding": null,
       "right": null,
       "top": null,
       "visibility": null,
       "width": null
      }
     },
     "9882651a2d29434a93a9a10ea99da586": {
      "model_module": "@jupyter-widgets/controls",
      "model_module_version": "1.5.0",
      "model_name": "ProgressStyleModel",
      "state": {
       "_model_module": "@jupyter-widgets/controls",
       "_model_module_version": "1.5.0",
       "_model_name": "ProgressStyleModel",
       "_view_count": null,
       "_view_module": "@jupyter-widgets/base",
       "_view_module_version": "1.2.0",
       "_view_name": "StyleView",
       "bar_color": null,
       "description_width": ""
      }
     },
     "9ee4adb5fd3d469c9773f37b430d4606": {
      "model_module": "@jupyter-widgets/base",
      "model_module_version": "1.2.0",
      "model_name": "LayoutModel",
      "state": {
       "_model_module": "@jupyter-widgets/base",
       "_model_module_version": "1.2.0",
       "_model_name": "LayoutModel",
       "_view_count": null,
       "_view_module": "@jupyter-widgets/base",
       "_view_module_version": "1.2.0",
       "_view_name": "LayoutView",
       "align_content": null,
       "align_items": null,
       "align_self": null,
       "border": null,
       "bottom": null,
       "display": null,
       "flex": null,
       "flex_flow": null,
       "grid_area": null,
       "grid_auto_columns": null,
       "grid_auto_flow": null,
       "grid_auto_rows": null,
       "grid_column": null,
       "grid_gap": null,
       "grid_row": null,
       "grid_template_areas": null,
       "grid_template_columns": null,
       "grid_template_rows": null,
       "height": null,
       "justify_content": null,
       "justify_items": null,
       "left": null,
       "margin": null,
       "max_height": null,
       "max_width": null,
       "min_height": null,
       "min_width": null,
       "object_fit": null,
       "object_position": null,
       "order": null,
       "overflow": null,
       "overflow_x": null,
       "overflow_y": null,
       "padding": null,
       "right": null,
       "top": null,
       "visibility": null,
       "width": null
      }
     },
     "d9b1c4e2834e4761a74a00cde0a45613": {
      "model_module": "@jupyter-widgets/base",
      "model_module_version": "1.2.0",
      "model_name": "LayoutModel",
      "state": {
       "_model_module": "@jupyter-widgets/base",
       "_model_module_version": "1.2.0",
       "_model_name": "LayoutModel",
       "_view_count": null,
       "_view_module": "@jupyter-widgets/base",
       "_view_module_version": "1.2.0",
       "_view_name": "LayoutView",
       "align_content": null,
       "align_items": null,
       "align_self": null,
       "border": null,
       "bottom": null,
       "display": null,
       "flex": null,
       "flex_flow": null,
       "grid_area": null,
       "grid_auto_columns": null,
       "grid_auto_flow": null,
       "grid_auto_rows": null,
       "grid_column": null,
       "grid_gap": null,
       "grid_row": null,
       "grid_template_areas": null,
       "grid_template_columns": null,
       "grid_template_rows": null,
       "height": null,
       "justify_content": null,
       "justify_items": null,
       "left": null,
       "margin": null,
       "max_height": null,
       "max_width": null,
       "min_height": null,
       "min_width": null,
       "object_fit": null,
       "object_position": null,
       "order": null,
       "overflow": null,
       "overflow_x": null,
       "overflow_y": null,
       "padding": null,
       "right": null,
       "top": null,
       "visibility": null,
       "width": null
      }
     },
     "e2483fa727ff45c09de4923a5593f9d1": {
      "model_module": "@jupyter-widgets/controls",
      "model_module_version": "1.5.0",
      "model_name": "HTMLModel",
      "state": {
       "_dom_classes": [],
       "_model_module": "@jupyter-widgets/controls",
       "_model_module_version": "1.5.0",
       "_model_name": "HTMLModel",
       "_view_count": null,
       "_view_module": "@jupyter-widgets/controls",
       "_view_module_version": "1.5.0",
       "_view_name": "HTMLView",
       "description": "",
       "description_tooltip": null,
       "layout": "IPY_MODEL_12b6a30f148a493fb006a2be509f9d4d",
       "placeholder": "​",
       "style": "IPY_MODEL_452cecb2674049a2b936aa0474a5a2bf",
       "value": " 3/3 [00:00&lt;00:00, 228.47it/s]"
      }
     },
     "e36e6f2a72a74ca78e6182de42fd4776": {
      "model_module": "@jupyter-widgets/controls",
      "model_module_version": "1.5.0",
      "model_name": "FloatProgressModel",
      "state": {
       "_dom_classes": [],
       "_model_module": "@jupyter-widgets/controls",
       "_model_module_version": "1.5.0",
       "_model_name": "FloatProgressModel",
       "_view_count": null,
       "_view_module": "@jupyter-widgets/controls",
       "_view_module_version": "1.5.0",
       "_view_name": "ProgressView",
       "bar_style": "success",
       "description": "",
       "description_tooltip": null,
       "layout": "IPY_MODEL_d9b1c4e2834e4761a74a00cde0a45613",
       "max": 44868.0,
       "min": 0.0,
       "orientation": "horizontal",
       "style": "IPY_MODEL_0fc1a926e5294285a478b6bd46a5051b",
       "value": 44868.0
      }
     },
     "e8a23e4109b34c1ea3ea8920bbf34bea": {
      "model_module": "@jupyter-widgets/base",
      "model_module_version": "1.2.0",
      "model_name": "LayoutModel",
      "state": {
       "_model_module": "@jupyter-widgets/base",
       "_model_module_version": "1.2.0",
       "_model_name": "LayoutModel",
       "_view_count": null,
       "_view_module": "@jupyter-widgets/base",
       "_view_module_version": "1.2.0",
       "_view_name": "LayoutView",
       "align_content": null,
       "align_items": null,
       "align_self": null,
       "border": null,
       "bottom": null,
       "display": null,
       "flex": null,
       "flex_flow": null,
       "grid_area": null,
       "grid_auto_columns": null,
       "grid_auto_flow": null,
       "grid_auto_rows": null,
       "grid_column": null,
       "grid_gap": null,
       "grid_row": null,
       "grid_template_areas": null,
       "grid_template_columns": null,
       "grid_template_rows": null,
       "height": null,
       "justify_content": null,
       "justify_items": null,
       "left": null,
       "margin": null,
       "max_height": null,
       "max_width": null,
       "min_height": null,
       "min_width": null,
       "object_fit": null,
       "object_position": null,
       "order": null,
       "overflow": null,
       "overflow_x": null,
       "overflow_y": null,
       "padding": null,
       "right": null,
       "top": null,
       "visibility": null,
       "width": null
      }
     }
    },
    "version_major": 2,
    "version_minor": 0
   }
  }
 },
 "nbformat": 4,
 "nbformat_minor": 5
}
