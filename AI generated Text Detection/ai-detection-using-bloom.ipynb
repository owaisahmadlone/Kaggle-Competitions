{
 "cells": [
  {
   "cell_type": "code",
   "execution_count": 1,
   "id": "2ea37cf5",
   "metadata": {
    "_cell_guid": "b1076dfc-b9ad-4769-8c92-a6c4dae69d19",
    "_uuid": "8f2839f25d086af736a60e9eeb907d3b93b6e0e5",
    "execution": {
     "iopub.execute_input": "2024-01-04T13:27:33.334260Z",
     "iopub.status.busy": "2024-01-04T13:27:33.333843Z",
     "iopub.status.idle": "2024-01-04T13:27:34.074297Z",
     "shell.execute_reply": "2024-01-04T13:27:34.073385Z"
    },
    "papermill": {
     "duration": 0.754363,
     "end_time": "2024-01-04T13:27:34.076539",
     "exception": false,
     "start_time": "2024-01-04T13:27:33.322176",
     "status": "completed"
    },
    "tags": []
   },
   "outputs": [
    {
     "name": "stdout",
     "output_type": "stream",
     "text": [
      "/kaggle/input/results/tokenizer/tokenizer.json\n",
      "/kaggle/input/results/tokenizer/tokenizer_config.json\n",
      "/kaggle/input/results/tokenizer/special_tokens_map.json\n",
      "/kaggle/input/results/finetuned_model/config.json\n",
      "/kaggle/input/results/finetuned_model/model.safetensors\n",
      "/kaggle/input/daigt-one-place-all-data/concatenated.csv\n",
      "/kaggle/input/llm-detect-ai-generated-text/sample_submission.csv\n",
      "/kaggle/input/llm-detect-ai-generated-text/train_prompts.csv\n",
      "/kaggle/input/llm-detect-ai-generated-text/test_essays.csv\n",
      "/kaggle/input/llm-detect-ai-generated-text/train_essays.csv\n",
      "/kaggle/input/daigt-v2-train-dataset/train_v2_drcat_02.csv\n"
     ]
    }
   ],
   "source": [
    "# This Python 3 environment comes with many helpful analytics libraries installed\n",
    "# It is defined by the kaggle/python Docker image: https://github.com/kaggle/docker-python\n",
    "# For example, here's several helpful packages to load\n",
    "\n",
    "import numpy as np # linear algebra\n",
    "import pandas as pd # data processing, CSV file I/O (e.g. pd.read_csv)\n",
    "\n",
    "# Input data files are available in the read-only \"../input/\" directory\n",
    "# For example, running this (by clicking run or pressing Shift+Enter) will list all files under the input directory\n",
    "\n",
    "import os\n",
    "for dirname, _, filenames in os.walk('/kaggle/input'):\n",
    "    for filename in filenames:\n",
    "        print(os.path.join(dirname, filename))\n",
    "\n",
    "# You can write up to 20GB to the current directory (/kaggle/working/) that gets preserved as output when you create a version using \"Save & Run All\" \n",
    "# You can also write temporary files to /kaggle/temp/, but they won't be saved outside of the current session"
   ]
  },
  {
   "cell_type": "code",
   "execution_count": 2,
   "id": "34cbc7ea",
   "metadata": {
    "execution": {
     "iopub.execute_input": "2024-01-04T13:27:34.098126Z",
     "iopub.status.busy": "2024-01-04T13:27:34.097419Z",
     "iopub.status.idle": "2024-01-04T13:28:07.390779Z",
     "shell.execute_reply": "2024-01-04T13:28:07.389636Z"
    },
    "papermill": {
     "duration": 33.306551,
     "end_time": "2024-01-04T13:28:07.393182",
     "exception": false,
     "start_time": "2024-01-04T13:27:34.086631",
     "status": "completed"
    },
    "tags": []
   },
   "outputs": [
    {
     "name": "stdout",
     "output_type": "stream",
     "text": [
      "Requirement already satisfied: transformers in /opt/conda/lib/python3.10/site-packages (4.36.0)\r\n",
      "Requirement already satisfied: torch in /opt/conda/lib/python3.10/site-packages (2.0.0)\r\n",
      "Requirement already satisfied: filelock in /opt/conda/lib/python3.10/site-packages (from transformers) (3.12.2)\r\n",
      "Requirement already satisfied: huggingface-hub<1.0,>=0.19.3 in /opt/conda/lib/python3.10/site-packages (from transformers) (0.19.4)\r\n",
      "Requirement already satisfied: numpy>=1.17 in /opt/conda/lib/python3.10/site-packages (from transformers) (1.24.3)\r\n",
      "Requirement already satisfied: packaging>=20.0 in /opt/conda/lib/python3.10/site-packages (from transformers) (21.3)\r\n",
      "Requirement already satisfied: pyyaml>=5.1 in /opt/conda/lib/python3.10/site-packages (from transformers) (6.0.1)\r\n",
      "Requirement already satisfied: regex!=2019.12.17 in /opt/conda/lib/python3.10/site-packages (from transformers) (2023.8.8)\r\n",
      "Requirement already satisfied: requests in /opt/conda/lib/python3.10/site-packages (from transformers) (2.31.0)\r\n",
      "Requirement already satisfied: tokenizers<0.19,>=0.14 in /opt/conda/lib/python3.10/site-packages (from transformers) (0.15.0)\r\n",
      "Requirement already satisfied: safetensors>=0.3.1 in /opt/conda/lib/python3.10/site-packages (from transformers) (0.4.1)\r\n",
      "Requirement already satisfied: tqdm>=4.27 in /opt/conda/lib/python3.10/site-packages (from transformers) (4.66.1)\r\n",
      "Requirement already satisfied: typing-extensions in /opt/conda/lib/python3.10/site-packages (from torch) (4.5.0)\r\n",
      "Requirement already satisfied: sympy in /opt/conda/lib/python3.10/site-packages (from torch) (1.12)\r\n",
      "Requirement already satisfied: networkx in /opt/conda/lib/python3.10/site-packages (from torch) (3.1)\r\n",
      "Requirement already satisfied: jinja2 in /opt/conda/lib/python3.10/site-packages (from torch) (3.1.2)\r\n",
      "Requirement already satisfied: fsspec>=2023.5.0 in /opt/conda/lib/python3.10/site-packages (from huggingface-hub<1.0,>=0.19.3->transformers) (2023.12.2)\r\n",
      "Requirement already satisfied: pyparsing!=3.0.5,>=2.0.2 in /opt/conda/lib/python3.10/site-packages (from packaging>=20.0->transformers) (3.0.9)\r\n",
      "Requirement already satisfied: MarkupSafe>=2.0 in /opt/conda/lib/python3.10/site-packages (from jinja2->torch) (2.1.3)\r\n",
      "Requirement already satisfied: charset-normalizer<4,>=2 in /opt/conda/lib/python3.10/site-packages (from requests->transformers) (3.2.0)\r\n",
      "Requirement already satisfied: idna<4,>=2.5 in /opt/conda/lib/python3.10/site-packages (from requests->transformers) (3.4)\r\n",
      "Requirement already satisfied: urllib3<3,>=1.21.1 in /opt/conda/lib/python3.10/site-packages (from requests->transformers) (1.26.15)\r\n",
      "Requirement already satisfied: certifi>=2017.4.17 in /opt/conda/lib/python3.10/site-packages (from requests->transformers) (2023.11.17)\r\n",
      "Requirement already satisfied: mpmath>=0.19 in /opt/conda/lib/python3.10/site-packages (from sympy->torch) (1.3.0)\r\n"
     ]
    }
   ],
   "source": [
    "!pip install transformers torch"
   ]
  },
  {
   "cell_type": "code",
   "execution_count": 3,
   "id": "cabb8db7",
   "metadata": {
    "execution": {
     "iopub.execute_input": "2024-01-04T13:28:07.415658Z",
     "iopub.status.busy": "2024-01-04T13:28:07.414776Z",
     "iopub.status.idle": "2024-01-04T13:30:46.959832Z",
     "shell.execute_reply": "2024-01-04T13:30:46.958611Z"
    },
    "papermill": {
     "duration": 159.559057,
     "end_time": "2024-01-04T13:30:46.962541",
     "exception": false,
     "start_time": "2024-01-04T13:28:07.403484",
     "status": "completed"
    },
    "tags": []
   },
   "outputs": [
    {
     "name": "stdout",
     "output_type": "stream",
     "text": [
      "Requirement already satisfied: accelerate in /opt/conda/lib/python3.10/site-packages (0.25.0)\r\n",
      "\u001b[33mWARNING: Retrying (Retry(total=4, connect=None, read=None, redirect=None, status=None)) after connection broken by 'NewConnectionError('<pip._vendor.urllib3.connection.HTTPSConnection object at 0x781d390fb220>: Failed to establish a new connection: [Errno -3] Temporary failure in name resolution')': /simple/accelerate/\u001b[0m\u001b[33m\r\n",
      "\u001b[0m\u001b[33mWARNING: Retrying (Retry(total=3, connect=None, read=None, redirect=None, status=None)) after connection broken by 'NewConnectionError('<pip._vendor.urllib3.connection.HTTPSConnection object at 0x781d390fb520>: Failed to establish a new connection: [Errno -3] Temporary failure in name resolution')': /simple/accelerate/\u001b[0m\u001b[33m\r\n",
      "\u001b[0m\u001b[33mWARNING: Retrying (Retry(total=2, connect=None, read=None, redirect=None, status=None)) after connection broken by 'NewConnectionError('<pip._vendor.urllib3.connection.HTTPSConnection object at 0x781d390fb6d0>: Failed to establish a new connection: [Errno -3] Temporary failure in name resolution')': /simple/accelerate/\u001b[0m\u001b[33m\r\n",
      "\u001b[0m\u001b[33mWARNING: Retrying (Retry(total=1, connect=None, read=None, redirect=None, status=None)) after connection broken by 'NewConnectionError('<pip._vendor.urllib3.connection.HTTPSConnection object at 0x781d390fb880>: Failed to establish a new connection: [Errno -3] Temporary failure in name resolution')': /simple/accelerate/\u001b[0m\u001b[33m\r\n",
      "\u001b[0m\u001b[33mWARNING: Retrying (Retry(total=0, connect=None, read=None, redirect=None, status=None)) after connection broken by 'NewConnectionError('<pip._vendor.urllib3.connection.HTTPSConnection object at 0x781d390fba30>: Failed to establish a new connection: [Errno -3] Temporary failure in name resolution')': /simple/accelerate/\u001b[0m\u001b[33m\r\n",
      "\u001b[0mRequirement already satisfied: numpy>=1.17 in /opt/conda/lib/python3.10/site-packages (from accelerate) (1.24.3)\r\n",
      "Requirement already satisfied: packaging>=20.0 in /opt/conda/lib/python3.10/site-packages (from accelerate) (21.3)\r\n",
      "Requirement already satisfied: psutil in /opt/conda/lib/python3.10/site-packages (from accelerate) (5.9.3)\r\n",
      "Requirement already satisfied: pyyaml in /opt/conda/lib/python3.10/site-packages (from accelerate) (6.0.1)\r\n",
      "Requirement already satisfied: torch>=1.10.0 in /opt/conda/lib/python3.10/site-packages (from accelerate) (2.0.0)\r\n",
      "Requirement already satisfied: huggingface-hub in /opt/conda/lib/python3.10/site-packages (from accelerate) (0.19.4)\r\n",
      "Requirement already satisfied: safetensors>=0.3.1 in /opt/conda/lib/python3.10/site-packages (from accelerate) (0.4.1)\r\n",
      "Requirement already satisfied: pyparsing!=3.0.5,>=2.0.2 in /opt/conda/lib/python3.10/site-packages (from packaging>=20.0->accelerate) (3.0.9)\r\n",
      "Requirement already satisfied: filelock in /opt/conda/lib/python3.10/site-packages (from torch>=1.10.0->accelerate) (3.12.2)\r\n",
      "Requirement already satisfied: typing-extensions in /opt/conda/lib/python3.10/site-packages (from torch>=1.10.0->accelerate) (4.5.0)\r\n",
      "Requirement already satisfied: sympy in /opt/conda/lib/python3.10/site-packages (from torch>=1.10.0->accelerate) (1.12)\r\n",
      "Requirement already satisfied: networkx in /opt/conda/lib/python3.10/site-packages (from torch>=1.10.0->accelerate) (3.1)\r\n",
      "Requirement already satisfied: jinja2 in /opt/conda/lib/python3.10/site-packages (from torch>=1.10.0->accelerate) (3.1.2)\r\n",
      "Requirement already satisfied: fsspec>=2023.5.0 in /opt/conda/lib/python3.10/site-packages (from huggingface-hub->accelerate) (2023.12.2)\r\n",
      "Requirement already satisfied: requests in /opt/conda/lib/python3.10/site-packages (from huggingface-hub->accelerate) (2.31.0)\r\n",
      "Requirement already satisfied: tqdm>=4.42.1 in /opt/conda/lib/python3.10/site-packages (from huggingface-hub->accelerate) (4.66.1)\r\n",
      "Requirement already satisfied: MarkupSafe>=2.0 in /opt/conda/lib/python3.10/site-packages (from jinja2->torch>=1.10.0->accelerate) (2.1.3)\r\n",
      "Requirement already satisfied: charset-normalizer<4,>=2 in /opt/conda/lib/python3.10/site-packages (from requests->huggingface-hub->accelerate) (3.2.0)\r\n",
      "Requirement already satisfied: idna<4,>=2.5 in /opt/conda/lib/python3.10/site-packages (from requests->huggingface-hub->accelerate) (3.4)\r\n",
      "Requirement already satisfied: urllib3<3,>=1.21.1 in /opt/conda/lib/python3.10/site-packages (from requests->huggingface-hub->accelerate) (1.26.15)\r\n",
      "Requirement already satisfied: certifi>=2017.4.17 in /opt/conda/lib/python3.10/site-packages (from requests->huggingface-hub->accelerate) (2023.11.17)\r\n",
      "Requirement already satisfied: mpmath>=0.19 in /opt/conda/lib/python3.10/site-packages (from sympy->torch>=1.10.0->accelerate) (1.3.0)\r\n"
     ]
    }
   ],
   "source": [
    "!pip install accelerate -U"
   ]
  },
  {
   "cell_type": "code",
   "execution_count": 4,
   "id": "b9705199",
   "metadata": {
    "execution": {
     "iopub.execute_input": "2024-01-04T13:30:46.986674Z",
     "iopub.status.busy": "2024-01-04T13:30:46.986330Z",
     "iopub.status.idle": "2024-01-04T13:30:49.442380Z",
     "shell.execute_reply": "2024-01-04T13:30:49.441550Z"
    },
    "papermill": {
     "duration": 2.470818,
     "end_time": "2024-01-04T13:30:49.444780",
     "exception": false,
     "start_time": "2024-01-04T13:30:46.973962",
     "status": "completed"
    },
    "tags": []
   },
   "outputs": [],
   "source": [
    "import pandas as pd\n",
    "test = pd.read_csv('/kaggle/input/llm-detect-ai-generated-text/test_essays.csv')\n",
    "sub = pd.read_csv('/kaggle/input/llm-detect-ai-generated-text/sample_submission.csv')\n",
    "data = pd.read_csv(\"/kaggle/input/daigt-one-place-all-data/concatenated.csv\", sep=',')"
   ]
  },
  {
   "cell_type": "code",
   "execution_count": 5,
   "id": "51977a6f",
   "metadata": {
    "execution": {
     "iopub.execute_input": "2024-01-04T13:30:49.470890Z",
     "iopub.status.busy": "2024-01-04T13:30:49.469986Z",
     "iopub.status.idle": "2024-01-04T13:30:49.494794Z",
     "shell.execute_reply": "2024-01-04T13:30:49.493980Z"
    },
    "papermill": {
     "duration": 0.040811,
     "end_time": "2024-01-04T13:30:49.496858",
     "exception": false,
     "start_time": "2024-01-04T13:30:49.456047",
     "status": "completed"
    },
    "tags": []
   },
   "outputs": [
    {
     "data": {
      "text/html": [
       "<div>\n",
       "<style scoped>\n",
       "    .dataframe tbody tr th:only-of-type {\n",
       "        vertical-align: middle;\n",
       "    }\n",
       "\n",
       "    .dataframe tbody tr th {\n",
       "        vertical-align: top;\n",
       "    }\n",
       "\n",
       "    .dataframe thead th {\n",
       "        text-align: right;\n",
       "    }\n",
       "</style>\n",
       "<table border=\"1\" class=\"dataframe\">\n",
       "  <thead>\n",
       "    <tr style=\"text-align: right;\">\n",
       "      <th></th>\n",
       "      <th>id</th>\n",
       "      <th>prompt_id</th>\n",
       "      <th>text</th>\n",
       "      <th>generated</th>\n",
       "      <th>model</th>\n",
       "      <th>kaggle_repo</th>\n",
       "    </tr>\n",
       "  </thead>\n",
       "  <tbody>\n",
       "    <tr>\n",
       "      <th>0</th>\n",
       "      <td>d429f032</td>\n",
       "      <td>0</td>\n",
       "      <td>Advantages of Limiting Car Usage \\n\\nLimiting ...</td>\n",
       "      <td>1</td>\n",
       "      <td>gpt-3.5-turbo</td>\n",
       "      <td>1</td>\n",
       "    </tr>\n",
       "    <tr>\n",
       "      <th>1</th>\n",
       "      <td>1ce279be</td>\n",
       "      <td>0</td>\n",
       "      <td>Advantages of Limiting Car Usage\\n\\nLimiting c...</td>\n",
       "      <td>1</td>\n",
       "      <td>gpt-3.5-turbo</td>\n",
       "      <td>1</td>\n",
       "    </tr>\n",
       "    <tr>\n",
       "      <th>2</th>\n",
       "      <td>c9595213</td>\n",
       "      <td>0</td>\n",
       "      <td>Limiting car usage has numerous advantages tha...</td>\n",
       "      <td>1</td>\n",
       "      <td>gpt-3.5-turbo</td>\n",
       "      <td>1</td>\n",
       "    </tr>\n",
       "    <tr>\n",
       "      <th>3</th>\n",
       "      <td>f2266d87</td>\n",
       "      <td>0</td>\n",
       "      <td>The passages provided discuss the advantages o...</td>\n",
       "      <td>1</td>\n",
       "      <td>gpt-3.5-turbo</td>\n",
       "      <td>1</td>\n",
       "    </tr>\n",
       "    <tr>\n",
       "      <th>4</th>\n",
       "      <td>eeace4bd</td>\n",
       "      <td>0</td>\n",
       "      <td>Title: The Advantages of Limiting Car Usage\\n\\...</td>\n",
       "      <td>1</td>\n",
       "      <td>gpt-3.5-turbo</td>\n",
       "      <td>1</td>\n",
       "    </tr>\n",
       "    <tr>\n",
       "      <th>...</th>\n",
       "      <td>...</td>\n",
       "      <td>...</td>\n",
       "      <td>...</td>\n",
       "      <td>...</td>\n",
       "      <td>...</td>\n",
       "      <td>...</td>\n",
       "    </tr>\n",
       "    <tr>\n",
       "      <th>54686</th>\n",
       "      <td>df8bf6e6-eca4-417c-bce2-b3b90d782d93</td>\n",
       "      <td>-1</td>\n",
       "      <td>I believe using cellphones in class for educat...</td>\n",
       "      <td>0</td>\n",
       "      <td>human</td>\n",
       "      <td>9</td>\n",
       "    </tr>\n",
       "    <tr>\n",
       "      <th>54687</th>\n",
       "      <td>502c11ac-7d0a-4b11-8572-5f7317364bc7</td>\n",
       "      <td>-1</td>\n",
       "      <td>Working alone, students do not have to argue w...</td>\n",
       "      <td>0</td>\n",
       "      <td>human</td>\n",
       "      <td>9</td>\n",
       "    </tr>\n",
       "    <tr>\n",
       "      <th>54688</th>\n",
       "      <td>993f33f3-0cfa-4b5a-b382-bdf7f82e2666</td>\n",
       "      <td>-1</td>\n",
       "      <td>\"A problem is a chance for you to do your best...</td>\n",
       "      <td>0</td>\n",
       "      <td>human</td>\n",
       "      <td>9</td>\n",
       "    </tr>\n",
       "    <tr>\n",
       "      <th>54689</th>\n",
       "      <td>0f9f0196-4828-4122-b0cb-aea2373066fb</td>\n",
       "      <td>-1</td>\n",
       "      <td>Many people disagree with Albert Schweitzer's ...</td>\n",
       "      <td>0</td>\n",
       "      <td>human</td>\n",
       "      <td>9</td>\n",
       "    </tr>\n",
       "    <tr>\n",
       "      <th>54690</th>\n",
       "      <td>75bb5685-f6ca-43d0-9364-bfa3d5977eab</td>\n",
       "      <td>-1</td>\n",
       "      <td>Do you think that failure is the main thing fo...</td>\n",
       "      <td>0</td>\n",
       "      <td>human</td>\n",
       "      <td>9</td>\n",
       "    </tr>\n",
       "  </tbody>\n",
       "</table>\n",
       "<p>54691 rows × 6 columns</p>\n",
       "</div>"
      ],
      "text/plain": [
       "                                         id prompt_id  \\\n",
       "0                                  d429f032         0   \n",
       "1                                  1ce279be         0   \n",
       "2                                  c9595213         0   \n",
       "3                                  f2266d87         0   \n",
       "4                                  eeace4bd         0   \n",
       "...                                     ...       ...   \n",
       "54686  df8bf6e6-eca4-417c-bce2-b3b90d782d93        -1   \n",
       "54687  502c11ac-7d0a-4b11-8572-5f7317364bc7        -1   \n",
       "54688  993f33f3-0cfa-4b5a-b382-bdf7f82e2666        -1   \n",
       "54689  0f9f0196-4828-4122-b0cb-aea2373066fb        -1   \n",
       "54690  75bb5685-f6ca-43d0-9364-bfa3d5977eab        -1   \n",
       "\n",
       "                                                    text  generated  \\\n",
       "0      Advantages of Limiting Car Usage \\n\\nLimiting ...          1   \n",
       "1      Advantages of Limiting Car Usage\\n\\nLimiting c...          1   \n",
       "2      Limiting car usage has numerous advantages tha...          1   \n",
       "3      The passages provided discuss the advantages o...          1   \n",
       "4      Title: The Advantages of Limiting Car Usage\\n\\...          1   \n",
       "...                                                  ...        ...   \n",
       "54686  I believe using cellphones in class for educat...          0   \n",
       "54687  Working alone, students do not have to argue w...          0   \n",
       "54688  \"A problem is a chance for you to do your best...          0   \n",
       "54689  Many people disagree with Albert Schweitzer's ...          0   \n",
       "54690  Do you think that failure is the main thing fo...          0   \n",
       "\n",
       "               model  kaggle_repo  \n",
       "0      gpt-3.5-turbo            1  \n",
       "1      gpt-3.5-turbo            1  \n",
       "2      gpt-3.5-turbo            1  \n",
       "3      gpt-3.5-turbo            1  \n",
       "4      gpt-3.5-turbo            1  \n",
       "...              ...          ...  \n",
       "54686          human            9  \n",
       "54687          human            9  \n",
       "54688          human            9  \n",
       "54689          human            9  \n",
       "54690          human            9  \n",
       "\n",
       "[54691 rows x 6 columns]"
      ]
     },
     "execution_count": 5,
     "metadata": {},
     "output_type": "execute_result"
    }
   ],
   "source": [
    "data"
   ]
  },
  {
   "cell_type": "code",
   "execution_count": 6,
   "id": "d2ec16f9",
   "metadata": {
    "execution": {
     "iopub.execute_input": "2024-01-04T13:30:49.522115Z",
     "iopub.status.busy": "2024-01-04T13:30:49.521490Z",
     "iopub.status.idle": "2024-01-04T13:30:50.431254Z",
     "shell.execute_reply": "2024-01-04T13:30:50.430420Z"
    },
    "papermill": {
     "duration": 0.925007,
     "end_time": "2024-01-04T13:30:50.433606",
     "exception": false,
     "start_time": "2024-01-04T13:30:49.508599",
     "status": "completed"
    },
    "tags": []
   },
   "outputs": [
    {
     "name": "stderr",
     "output_type": "stream",
     "text": [
      "/opt/conda/lib/python3.10/site-packages/scipy/__init__.py:146: UserWarning: A NumPy version >=1.16.5 and <1.23.0 is required for this version of SciPy (detected version 1.24.3\n",
      "  warnings.warn(f\"A NumPy version >={np_minversion} and <{np_maxversion}\"\n"
     ]
    }
   ],
   "source": [
    "X = data['text']\n",
    "Y = data['generated']\n",
    "\n",
    "from sklearn.model_selection import train_test_split\n",
    "\n",
    "# Split the data into training and validation sets with a 80-20 ratio\n",
    "train, val, train_labels, eval_labels = train_test_split(\n",
    "    X, Y, test_size=0.2, random_state=42\n",
    ")"
   ]
  },
  {
   "cell_type": "code",
   "execution_count": 7,
   "id": "11738af5",
   "metadata": {
    "execution": {
     "iopub.execute_input": "2024-01-04T13:30:50.459083Z",
     "iopub.status.busy": "2024-01-04T13:30:50.458687Z",
     "iopub.status.idle": "2024-01-04T13:30:50.463768Z",
     "shell.execute_reply": "2024-01-04T13:30:50.462779Z"
    },
    "papermill": {
     "duration": 0.0205,
     "end_time": "2024-01-04T13:30:50.465946",
     "exception": false,
     "start_time": "2024-01-04T13:30:50.445446",
     "status": "completed"
    },
    "tags": []
   },
   "outputs": [],
   "source": [
    "train.reset_index(drop=True, inplace=True)\n",
    "val.reset_index(drop=True, inplace=True)"
   ]
  },
  {
   "cell_type": "code",
   "execution_count": 8,
   "id": "5f1a4e64",
   "metadata": {
    "execution": {
     "iopub.execute_input": "2024-01-04T13:30:50.493217Z",
     "iopub.status.busy": "2024-01-04T13:30:50.492825Z",
     "iopub.status.idle": "2024-01-04T13:30:50.497524Z",
     "shell.execute_reply": "2024-01-04T13:30:50.496707Z"
    },
    "papermill": {
     "duration": 0.020113,
     "end_time": "2024-01-04T13:30:50.499480",
     "exception": false,
     "start_time": "2024-01-04T13:30:50.479367",
     "status": "completed"
    },
    "tags": []
   },
   "outputs": [],
   "source": [
    "train_labels.reset_index(drop=True, inplace=True)\n",
    "eval_labels.reset_index(drop=True, inplace=True)"
   ]
  },
  {
   "cell_type": "code",
   "execution_count": 9,
   "id": "94247378",
   "metadata": {
    "execution": {
     "iopub.execute_input": "2024-01-04T13:30:50.525435Z",
     "iopub.status.busy": "2024-01-04T13:30:50.524624Z",
     "iopub.status.idle": "2024-01-04T13:30:50.531745Z",
     "shell.execute_reply": "2024-01-04T13:30:50.530853Z"
    },
    "papermill": {
     "duration": 0.022122,
     "end_time": "2024-01-04T13:30:50.533728",
     "exception": false,
     "start_time": "2024-01-04T13:30:50.511606",
     "status": "completed"
    },
    "tags": []
   },
   "outputs": [
    {
     "data": {
      "text/plain": [
       "0    Dear Principal Johnson, \\n\\nI am writing to ex...\n",
       "1    To the principal,\\n\\nAs a student, I think the...\n",
       "2    Being a good person and a good citizen is esse...\n",
       "3    Texting and Driving\\n\\nCellphone is the most u...\n",
       "4    Twenty-five years ago, a strange image was pro...\n",
       "Name: text, dtype: object"
      ]
     },
     "execution_count": 9,
     "metadata": {},
     "output_type": "execute_result"
    }
   ],
   "source": [
    "train.head()"
   ]
  },
  {
   "cell_type": "code",
   "execution_count": 10,
   "id": "95f184dd",
   "metadata": {
    "execution": {
     "iopub.execute_input": "2024-01-04T13:30:50.558287Z",
     "iopub.status.busy": "2024-01-04T13:30:50.557755Z",
     "iopub.status.idle": "2024-01-04T13:30:50.563560Z",
     "shell.execute_reply": "2024-01-04T13:30:50.562686Z"
    },
    "papermill": {
     "duration": 0.020466,
     "end_time": "2024-01-04T13:30:50.565643",
     "exception": false,
     "start_time": "2024-01-04T13:30:50.545177",
     "status": "completed"
    },
    "tags": []
   },
   "outputs": [
    {
     "data": {
      "text/plain": [
       "(43752,)"
      ]
     },
     "execution_count": 10,
     "metadata": {},
     "output_type": "execute_result"
    }
   ],
   "source": [
    "train.shape"
   ]
  },
  {
   "cell_type": "code",
   "execution_count": 11,
   "id": "17adff6a",
   "metadata": {
    "execution": {
     "iopub.execute_input": "2024-01-04T13:30:50.591807Z",
     "iopub.status.busy": "2024-01-04T13:30:50.591443Z",
     "iopub.status.idle": "2024-01-04T13:30:50.598465Z",
     "shell.execute_reply": "2024-01-04T13:30:50.597569Z"
    },
    "papermill": {
     "duration": 0.022819,
     "end_time": "2024-01-04T13:30:50.600577",
     "exception": false,
     "start_time": "2024-01-04T13:30:50.577758",
     "status": "completed"
    },
    "tags": []
   },
   "outputs": [
    {
     "data": {
      "text/plain": [
       "0    Meditation and mindfulness practices in school...\n",
       "1    Studying Venus Remains Worth Pursuing Despite ...\n",
       "2    Gun control is a big issue in a lot of places....\n",
       "3    Viideo games are the best! But some peoples sa...\n",
       "4    As students, we all know how much homework we ...\n",
       "Name: text, dtype: object"
      ]
     },
     "execution_count": 11,
     "metadata": {},
     "output_type": "execute_result"
    }
   ],
   "source": [
    "val.head()"
   ]
  },
  {
   "cell_type": "code",
   "execution_count": 12,
   "id": "311225e9",
   "metadata": {
    "execution": {
     "iopub.execute_input": "2024-01-04T13:30:50.626880Z",
     "iopub.status.busy": "2024-01-04T13:30:50.626305Z",
     "iopub.status.idle": "2024-01-04T13:30:50.632193Z",
     "shell.execute_reply": "2024-01-04T13:30:50.631221Z"
    },
    "papermill": {
     "duration": 0.021284,
     "end_time": "2024-01-04T13:30:50.634130",
     "exception": false,
     "start_time": "2024-01-04T13:30:50.612846",
     "status": "completed"
    },
    "tags": []
   },
   "outputs": [
    {
     "data": {
      "text/plain": [
       "(10939,)"
      ]
     },
     "execution_count": 12,
     "metadata": {},
     "output_type": "execute_result"
    }
   ],
   "source": [
    "val.shape"
   ]
  },
  {
   "cell_type": "code",
   "execution_count": 13,
   "id": "56f957c1",
   "metadata": {
    "execution": {
     "iopub.execute_input": "2024-01-04T13:30:50.660617Z",
     "iopub.status.busy": "2024-01-04T13:30:50.659870Z",
     "iopub.status.idle": "2024-01-04T13:31:07.061497Z",
     "shell.execute_reply": "2024-01-04T13:31:07.060662Z"
    },
    "papermill": {
     "duration": 16.417399,
     "end_time": "2024-01-04T13:31:07.063887",
     "exception": false,
     "start_time": "2024-01-04T13:30:50.646488",
     "status": "completed"
    },
    "tags": []
   },
   "outputs": [],
   "source": [
    "from sklearn.model_selection import train_test_split\n",
    "from transformers import AutoTokenizer, AutoModelForSequenceClassification, Trainer, TrainingArguments\n",
    "from sklearn.metrics import accuracy_score\n",
    "import torch"
   ]
  },
  {
   "cell_type": "code",
   "execution_count": 14,
   "id": "b77b9717",
   "metadata": {
    "execution": {
     "iopub.execute_input": "2024-01-04T13:31:07.090213Z",
     "iopub.status.busy": "2024-01-04T13:31:07.089172Z",
     "iopub.status.idle": "2024-01-04T13:31:21.116759Z",
     "shell.execute_reply": "2024-01-04T13:31:21.115682Z"
    },
    "papermill": {
     "duration": 14.043144,
     "end_time": "2024-01-04T13:31:21.119351",
     "exception": false,
     "start_time": "2024-01-04T13:31:07.076207",
     "status": "completed"
    },
    "tags": []
   },
   "outputs": [],
   "source": [
    "#Load tokenizer and model\n",
    "tokenizer = AutoTokenizer.from_pretrained(\"/kaggle/input/results/tokenizer\")\n",
    "model = AutoModelForSequenceClassification.from_pretrained(\"/kaggle/input/results/finetuned_model\")"
   ]
  },
  {
   "cell_type": "code",
   "execution_count": 15,
   "id": "436dca91",
   "metadata": {
    "execution": {
     "iopub.execute_input": "2024-01-04T13:31:21.145591Z",
     "iopub.status.busy": "2024-01-04T13:31:21.144590Z",
     "iopub.status.idle": "2024-01-04T13:31:21.151032Z",
     "shell.execute_reply": "2024-01-04T13:31:21.150319Z"
    },
    "papermill": {
     "duration": 0.021181,
     "end_time": "2024-01-04T13:31:21.152914",
     "exception": false,
     "start_time": "2024-01-04T13:31:21.131733",
     "status": "completed"
    },
    "tags": []
   },
   "outputs": [],
   "source": [
    "max_length = 64\n",
    "#Tokenize the datasets with the specified maximum length\n",
    "# train_encodings = tokenizer([x for x in train], truncation=True, padding=True, max_length=max_length, return_tensors='pt')\n",
    "# eval_encodings = tokenizer([x for x in val], truncation=True, padding=True, max_length=max_length, return_tensors='pt')\n",
    "test_encodings = tokenizer([x for x in test], truncation=True, padding=True, max_length=max_length, return_tensors='pt')"
   ]
  },
  {
   "cell_type": "code",
   "execution_count": 16,
   "id": "61d0744f",
   "metadata": {
    "execution": {
     "iopub.execute_input": "2024-01-04T13:31:21.177950Z",
     "iopub.status.busy": "2024-01-04T13:31:21.177361Z",
     "iopub.status.idle": "2024-01-04T13:31:21.181550Z",
     "shell.execute_reply": "2024-01-04T13:31:21.180664Z"
    },
    "papermill": {
     "duration": 0.01868,
     "end_time": "2024-01-04T13:31:21.183445",
     "exception": false,
     "start_time": "2024-01-04T13:31:21.164765",
     "status": "completed"
    },
    "tags": []
   },
   "outputs": [],
   "source": [
    "test_labels = [0]*len(test)"
   ]
  },
  {
   "cell_type": "code",
   "execution_count": 17,
   "id": "c0c8850c",
   "metadata": {
    "execution": {
     "iopub.execute_input": "2024-01-04T13:31:21.259974Z",
     "iopub.status.busy": "2024-01-04T13:31:21.259262Z",
     "iopub.status.idle": "2024-01-04T13:31:21.266637Z",
     "shell.execute_reply": "2024-01-04T13:31:21.265698Z"
    },
    "papermill": {
     "duration": 0.022316,
     "end_time": "2024-01-04T13:31:21.268525",
     "exception": false,
     "start_time": "2024-01-04T13:31:21.246209",
     "status": "completed"
    },
    "tags": []
   },
   "outputs": [],
   "source": [
    "from torch.utils.data import DataLoader, Dataset\n",
    "# Create PyTorch datasets\n",
    "class Dataset(torch.utils.data.Dataset):\n",
    "    def __init__(self, encodings, labels):\n",
    "        self.encodings = encodings\n",
    "        self.labels = labels\n",
    "\n",
    "    def __getitem__(self, idx):\n",
    "        item = {key: val[idx] for key, val in self.encodings.items()}\n",
    "        item['labels'] = torch.tensor(self.labels[idx])\n",
    "        return item\n",
    "\n",
    "    def __len__(self):\n",
    "        return len(self.labels)\n",
    "    \n",
    "# train_dataset = Dataset(train_encodings, train_labels)\n",
    "# eval_dataset = Dataset(eval_encodings, eval_labels)\n",
    "test_dataset = Dataset(test_encodings, test_labels)\n",
    "\n",
    "# train_dataloader = DataLoader(train_dataset, batch_size=4, shuffle=True)\n",
    "# eval_dataloader = DataLoader(eval_dataset, batch_size=4, shuffle=True)"
   ]
  },
  {
   "cell_type": "markdown",
   "id": "2ba09803",
   "metadata": {
    "papermill": {
     "duration": 0.01249,
     "end_time": "2024-01-04T13:31:21.293426",
     "exception": false,
     "start_time": "2024-01-04T13:31:21.280936",
     "status": "completed"
    },
    "tags": []
   },
   "source": [
    "### Manual Training Loop"
   ]
  },
  {
   "cell_type": "code",
   "execution_count": 18,
   "id": "c6ce8ba4",
   "metadata": {
    "execution": {
     "iopub.execute_input": "2024-01-04T13:31:21.319115Z",
     "iopub.status.busy": "2024-01-04T13:31:21.318732Z",
     "iopub.status.idle": "2024-01-04T13:31:21.323333Z",
     "shell.execute_reply": "2024-01-04T13:31:21.322456Z"
    },
    "papermill": {
     "duration": 0.019814,
     "end_time": "2024-01-04T13:31:21.325374",
     "exception": false,
     "start_time": "2024-01-04T13:31:21.305560",
     "status": "completed"
    },
    "tags": []
   },
   "outputs": [],
   "source": [
    "# from tqdm import tqdm\n",
    "# import torch\n",
    "# from sklearn.metrics import accuracy_score\n",
    "\n",
    "# # Assuming you have the necessary imports and datasets already defined\n",
    "\n",
    "# # Define training arguments\n",
    "# training_args = TrainingArguments(\n",
    "#     output_dir=\"./finetuned_model\",\n",
    "#     per_device_train_batch_size=4,\n",
    "#     per_device_eval_batch_size=4,\n",
    "#     num_train_epochs=1,\n",
    "#     save_steps=500,\n",
    "#     save_total_limit=2,\n",
    "#     learning_rate=2e-5,\n",
    "#     report_to=[]\n",
    "# )"
   ]
  },
  {
   "cell_type": "code",
   "execution_count": 19,
   "id": "9e553158",
   "metadata": {
    "execution": {
     "iopub.execute_input": "2024-01-04T13:31:21.351631Z",
     "iopub.status.busy": "2024-01-04T13:31:21.350970Z",
     "iopub.status.idle": "2024-01-04T13:31:21.355212Z",
     "shell.execute_reply": "2024-01-04T13:31:21.354351Z"
    },
    "papermill": {
     "duration": 0.019535,
     "end_time": "2024-01-04T13:31:21.357221",
     "exception": false,
     "start_time": "2024-01-04T13:31:21.337686",
     "status": "completed"
    },
    "tags": []
   },
   "outputs": [],
   "source": [
    "# # Define the device\n",
    "# device = torch.device('cuda' if torch.cuda.is_available() else 'cpu')\n",
    "\n",
    "# # Move the model to the device\n",
    "# model.to(device)"
   ]
  },
  {
   "cell_type": "code",
   "execution_count": 20,
   "id": "82589a9c",
   "metadata": {
    "execution": {
     "iopub.execute_input": "2024-01-04T13:31:21.383292Z",
     "iopub.status.busy": "2024-01-04T13:31:21.382589Z",
     "iopub.status.idle": "2024-01-04T13:31:21.387962Z",
     "shell.execute_reply": "2024-01-04T13:31:21.387110Z"
    },
    "papermill": {
     "duration": 0.020777,
     "end_time": "2024-01-04T13:31:21.390005",
     "exception": false,
     "start_time": "2024-01-04T13:31:21.369228",
     "status": "completed"
    },
    "tags": []
   },
   "outputs": [],
   "source": [
    "# # Define optimizer\n",
    "# optimizer = torch.optim.AdamW(model.parameters(), lr=training_args.learning_rate)\n",
    "\n",
    "# # Manual training loop\n",
    "# for epoch in range(training_args.num_train_epochs):\n",
    "#     model.train()\n",
    "#     total_loss = 0.0\n",
    "\n",
    "#     for batch in tqdm(train_dataloader, desc=f\"Epoch {epoch}\"):\n",
    "#         optimizer.zero_grad()\n",
    "#         input_ids = batch['input_ids'].to(device)\n",
    "#         attention_mask = batch['attention_mask'].to(device)\n",
    "#         labels = batch['labels'].to(device)\n",
    "\n",
    "#         outputs = model(input_ids, attention_mask=attention_mask, labels=labels)\n",
    "#         loss = outputs.loss\n",
    "#         total_loss += loss.item()\n",
    "\n",
    "#         loss.backward()\n",
    "#         optimizer.step()\n",
    "\n",
    "#     avg_train_loss = total_loss / len(train_dataloader)\n",
    "\n",
    "#     # Evaluation after each epoch\n",
    "#     model.eval()\n",
    "#     all_preds = []\n",
    "#     all_labels = []\n",
    "\n",
    "#     with torch.no_grad():\n",
    "#         for batch in tqdm(eval_dataloader, desc=f\"Evaluating\"):\n",
    "#             input_ids = batch['input_ids'].to(device)\n",
    "#             attention_mask = batch['attention_mask'].to(device)\n",
    "#             labels = batch['labels'].to(device)\n",
    "\n",
    "#             outputs = model(input_ids, attention_mask=attention_mask, labels=labels)\n",
    "#             logits = outputs.logits\n",
    "\n",
    "#             preds = torch.argmax(logits, dim=1).cpu().numpy()\n",
    "#             all_preds.extend(preds)\n",
    "#             all_labels.extend(labels.cpu().numpy())\n",
    "\n",
    "#     accuracy = accuracy_score(all_labels, all_preds)\n",
    "#     print(f\"Epoch {epoch + 1}, Average Training Loss: {avg_train_loss}, Accuracy: {accuracy}\")"
   ]
  },
  {
   "cell_type": "code",
   "execution_count": 21,
   "id": "67e956e1",
   "metadata": {
    "execution": {
     "iopub.execute_input": "2024-01-04T13:31:21.415998Z",
     "iopub.status.busy": "2024-01-04T13:31:21.415641Z",
     "iopub.status.idle": "2024-01-04T13:31:21.419914Z",
     "shell.execute_reply": "2024-01-04T13:31:21.418979Z"
    },
    "papermill": {
     "duration": 0.019561,
     "end_time": "2024-01-04T13:31:21.421934",
     "exception": false,
     "start_time": "2024-01-04T13:31:21.402373",
     "status": "completed"
    },
    "tags": []
   },
   "outputs": [],
   "source": [
    "# # Save the fine-tuned model\n",
    "# model.save_pretrained('./finetuned_model')\n",
    "# tokenizer.save_pretrained('./tokenizer')"
   ]
  },
  {
   "cell_type": "code",
   "execution_count": 22,
   "id": "2bde5465",
   "metadata": {
    "execution": {
     "iopub.execute_input": "2024-01-04T13:31:21.448268Z",
     "iopub.status.busy": "2024-01-04T13:31:21.447553Z",
     "iopub.status.idle": "2024-01-04T13:31:21.451679Z",
     "shell.execute_reply": "2024-01-04T13:31:21.450779Z"
    },
    "papermill": {
     "duration": 0.019507,
     "end_time": "2024-01-04T13:31:21.453652",
     "exception": false,
     "start_time": "2024-01-04T13:31:21.434145",
     "status": "completed"
    },
    "tags": []
   },
   "outputs": [],
   "source": [
    "# from sklearn.metrics import accuracy_score\n",
    "\n",
    "# # Custom callback function to calculate and print accuracy during evaluation\n",
    "# def compute_metrics(p):\n",
    "#     preds = np.argmax(p.predictions, axis=1)\n",
    "#     return {\"accuracy\": accuracy_score(p.label_ids, preds)}"
   ]
  },
  {
   "cell_type": "code",
   "execution_count": 23,
   "id": "8877d29f",
   "metadata": {
    "execution": {
     "iopub.execute_input": "2024-01-04T13:31:21.480345Z",
     "iopub.status.busy": "2024-01-04T13:31:21.479512Z",
     "iopub.status.idle": "2024-01-04T13:31:21.483890Z",
     "shell.execute_reply": "2024-01-04T13:31:21.482986Z"
    },
    "papermill": {
     "duration": 0.019747,
     "end_time": "2024-01-04T13:31:21.485772",
     "exception": false,
     "start_time": "2024-01-04T13:31:21.466025",
     "status": "completed"
    },
    "tags": []
   },
   "outputs": [],
   "source": [
    "# # Define training arguments\n",
    "# training_args = TrainingArguments(\n",
    "#     output_dir=\"./finetuned_model\",\n",
    "#     per_device_train_batch_size=4,\n",
    "#     per_device_eval_batch_size=4,\n",
    "#     num_train_epochs=1,\n",
    "#     save_steps=500,\n",
    "#     save_total_limit=2,\n",
    "#     learning_rate=2e-5,\n",
    "#     report_to=[]\n",
    "# )"
   ]
  },
  {
   "cell_type": "code",
   "execution_count": 24,
   "id": "9ff5d293",
   "metadata": {
    "execution": {
     "iopub.execute_input": "2024-01-04T13:31:21.512702Z",
     "iopub.status.busy": "2024-01-04T13:31:21.511806Z",
     "iopub.status.idle": "2024-01-04T13:31:21.516280Z",
     "shell.execute_reply": "2024-01-04T13:31:21.515371Z"
    },
    "papermill": {
     "duration": 0.019923,
     "end_time": "2024-01-04T13:31:21.518166",
     "exception": false,
     "start_time": "2024-01-04T13:31:21.498243",
     "status": "completed"
    },
    "tags": []
   },
   "outputs": [],
   "source": [
    "# # Define Trainer with custom callback\n",
    "# trainer = Trainer(\n",
    "#     model=model,\n",
    "#     args=training_args,\n",
    "#     train_dataset=train_dataset,\n",
    "#     eval_dataset=eval_dataset,\n",
    "#     callbacks=[EarlyStoppingCallback(early_stopping_patience=3, early_stopping_threshold=0.01),\n",
    "#                PrintTableCallback(early_stopping_patience=3, early_stopping_threshold=0.01),\n",
    "#                LogMetricsCallback()],\n",
    "#     compute_metrics=compute_metrics  # Specify the custom metric function\n",
    "# )"
   ]
  },
  {
   "cell_type": "code",
   "execution_count": 25,
   "id": "e2369cca",
   "metadata": {
    "execution": {
     "iopub.execute_input": "2024-01-04T13:31:21.544253Z",
     "iopub.status.busy": "2024-01-04T13:31:21.543530Z",
     "iopub.status.idle": "2024-01-04T13:31:21.547564Z",
     "shell.execute_reply": "2024-01-04T13:31:21.546707Z"
    },
    "papermill": {
     "duration": 0.019067,
     "end_time": "2024-01-04T13:31:21.549387",
     "exception": false,
     "start_time": "2024-01-04T13:31:21.530320",
     "status": "completed"
    },
    "tags": []
   },
   "outputs": [],
   "source": [
    "# # Fine-tune the model\n",
    "# trainer.train()"
   ]
  },
  {
   "cell_type": "code",
   "execution_count": 26,
   "id": "334fd7e6",
   "metadata": {
    "execution": {
     "iopub.execute_input": "2024-01-04T13:31:21.575914Z",
     "iopub.status.busy": "2024-01-04T13:31:21.575299Z",
     "iopub.status.idle": "2024-01-04T13:31:21.579406Z",
     "shell.execute_reply": "2024-01-04T13:31:21.578482Z"
    },
    "papermill": {
     "duration": 0.019741,
     "end_time": "2024-01-04T13:31:21.581435",
     "exception": false,
     "start_time": "2024-01-04T13:31:21.561694",
     "status": "completed"
    },
    "tags": []
   },
   "outputs": [],
   "source": [
    "# # Save the fine-tuned model\n",
    "# model.save_pretrained(\"./finetuned_model\")"
   ]
  },
  {
   "cell_type": "code",
   "execution_count": 27,
   "id": "7c657d50",
   "metadata": {
    "execution": {
     "iopub.execute_input": "2024-01-04T13:31:21.609006Z",
     "iopub.status.busy": "2024-01-04T13:31:21.608317Z",
     "iopub.status.idle": "2024-01-04T13:31:21.612575Z",
     "shell.execute_reply": "2024-01-04T13:31:21.611760Z"
    },
    "papermill": {
     "duration": 0.01949,
     "end_time": "2024-01-04T13:31:21.614472",
     "exception": false,
     "start_time": "2024-01-04T13:31:21.594982",
     "status": "completed"
    },
    "tags": []
   },
   "outputs": [],
   "source": [
    "# # Inference on the validation set\n",
    "# validation_predictions = trainer.predict(eval_dataset)\n",
    "# validation_probabilities = torch.nn.functional.softmax(torch.tensor(validation_predictions.predictions), dim=1)[:, 1].numpy()\n",
    "\n",
    "# # Calculate accuracy on validation set using y_validation list\n",
    "# predicted_labels = validation_probabilities > 0.5\n",
    "# accuracy = accuracy_score(eval_labels, predicted_labels)\n",
    "\n",
    "# print(f\"Accuracy on the validation set: {accuracy}\")"
   ]
  },
  {
   "cell_type": "code",
   "execution_count": 28,
   "id": "f6a3b229",
   "metadata": {
    "execution": {
     "iopub.execute_input": "2024-01-04T13:31:21.640244Z",
     "iopub.status.busy": "2024-01-04T13:31:21.639672Z",
     "iopub.status.idle": "2024-01-04T13:31:21.644204Z",
     "shell.execute_reply": "2024-01-04T13:31:21.643335Z"
    },
    "papermill": {
     "duration": 0.019644,
     "end_time": "2024-01-04T13:31:21.646238",
     "exception": false,
     "start_time": "2024-01-04T13:31:21.626594",
     "status": "completed"
    },
    "tags": []
   },
   "outputs": [],
   "source": [
    "# import os\n",
    "# import shutil\n",
    "# from zipfile import ZipFile\n",
    "\n",
    "# # Set the output directory in Kaggle\n",
    "# output_dir = '/kaggle/working/'\n",
    "\n",
    "# # Set the model directory name\n",
    "# model_directory = 'finetuned_model'\n",
    "\n",
    "# # Set the destination path for the zip file\n",
    "# zip_file_path = f'finetuned_model.zip'\n",
    "\n",
    "# # Zip the model directory\n",
    "# shutil.make_archive(zip_file_path, 'zip', os.path.join(output_dir, model_directory))\n",
    "\n",
    "# # Move the zip file to the Kaggle output directory\n",
    "# shutil.move(zip_file_path + '.zip', '/kaggle/working/')"
   ]
  },
  {
   "cell_type": "code",
   "execution_count": 29,
   "id": "ede4c85c",
   "metadata": {
    "execution": {
     "iopub.execute_input": "2024-01-04T13:31:21.671890Z",
     "iopub.status.busy": "2024-01-04T13:31:21.671554Z",
     "iopub.status.idle": "2024-01-04T13:31:21.675671Z",
     "shell.execute_reply": "2024-01-04T13:31:21.674870Z"
    },
    "papermill": {
     "duration": 0.019183,
     "end_time": "2024-01-04T13:31:21.677579",
     "exception": false,
     "start_time": "2024-01-04T13:31:21.658396",
     "status": "completed"
    },
    "tags": []
   },
   "outputs": [],
   "source": [
    "# # Load the fine-tuned model\n",
    "# model = AutoModelForSequenceClassification.from_pretrained(\"/kaggle/input/model-finetuned/finetuned_model\")"
   ]
  },
  {
   "cell_type": "markdown",
   "id": "61995b72",
   "metadata": {
    "papermill": {
     "duration": 0.011879,
     "end_time": "2024-01-04T13:31:21.701603",
     "exception": false,
     "start_time": "2024-01-04T13:31:21.689724",
     "status": "completed"
    },
    "tags": []
   },
   "source": [
    "### Inference on test data"
   ]
  },
  {
   "cell_type": "code",
   "execution_count": 30,
   "id": "210fcc28",
   "metadata": {
    "execution": {
     "iopub.execute_input": "2024-01-04T13:31:21.727583Z",
     "iopub.status.busy": "2024-01-04T13:31:21.726934Z",
     "iopub.status.idle": "2024-01-04T13:31:21.731914Z",
     "shell.execute_reply": "2024-01-04T13:31:21.730971Z"
    },
    "papermill": {
     "duration": 0.020306,
     "end_time": "2024-01-04T13:31:21.733975",
     "exception": false,
     "start_time": "2024-01-04T13:31:21.713669",
     "status": "completed"
    },
    "tags": []
   },
   "outputs": [],
   "source": [
    "# Create PyTorch dataloaders\n",
    "test_dataloader = torch.utils.data.DataLoader(test_dataset, batch_size=32, shuffle=False)\n",
    "# eval_dataloader = torch.utils.data.DataLoader(eval_dataset, batch_size=32, shuffle=False)"
   ]
  },
  {
   "cell_type": "code",
   "execution_count": 31,
   "id": "15e00d8c",
   "metadata": {
    "execution": {
     "iopub.execute_input": "2024-01-04T13:31:21.760157Z",
     "iopub.status.busy": "2024-01-04T13:31:21.759424Z",
     "iopub.status.idle": "2024-01-04T13:31:21.769031Z",
     "shell.execute_reply": "2024-01-04T13:31:21.768180Z"
    },
    "papermill": {
     "duration": 0.024751,
     "end_time": "2024-01-04T13:31:21.770994",
     "exception": false,
     "start_time": "2024-01-04T13:31:21.746243",
     "status": "completed"
    },
    "tags": []
   },
   "outputs": [
    {
     "data": {
      "text/plain": [
       "BloomForSequenceClassification(\n",
       "  (transformer): BloomModel(\n",
       "    (word_embeddings): Embedding(250880, 1024)\n",
       "    (word_embeddings_layernorm): LayerNorm((1024,), eps=1e-05, elementwise_affine=True)\n",
       "    (h): ModuleList(\n",
       "      (0-23): 24 x BloomBlock(\n",
       "        (input_layernorm): LayerNorm((1024,), eps=1e-05, elementwise_affine=True)\n",
       "        (self_attention): BloomAttention(\n",
       "          (query_key_value): Linear(in_features=1024, out_features=3072, bias=True)\n",
       "          (dense): Linear(in_features=1024, out_features=1024, bias=True)\n",
       "          (attention_dropout): Dropout(p=0.0, inplace=False)\n",
       "        )\n",
       "        (post_attention_layernorm): LayerNorm((1024,), eps=1e-05, elementwise_affine=True)\n",
       "        (mlp): BloomMLP(\n",
       "          (dense_h_to_4h): Linear(in_features=1024, out_features=4096, bias=True)\n",
       "          (gelu_impl): BloomGelu()\n",
       "          (dense_4h_to_h): Linear(in_features=4096, out_features=1024, bias=True)\n",
       "        )\n",
       "      )\n",
       "    )\n",
       "    (ln_f): LayerNorm((1024,), eps=1e-05, elementwise_affine=True)\n",
       "  )\n",
       "  (score): Linear(in_features=1024, out_features=2, bias=False)\n",
       ")"
      ]
     },
     "execution_count": 31,
     "metadata": {},
     "output_type": "execute_result"
    }
   ],
   "source": [
    "# Put the model in evaluation mode\n",
    "model.eval()"
   ]
  },
  {
   "cell_type": "code",
   "execution_count": 32,
   "id": "581b8da2",
   "metadata": {
    "execution": {
     "iopub.execute_input": "2024-01-04T13:31:21.798175Z",
     "iopub.status.busy": "2024-01-04T13:31:21.797802Z",
     "iopub.status.idle": "2024-01-04T13:31:21.803628Z",
     "shell.execute_reply": "2024-01-04T13:31:21.802752Z"
    },
    "papermill": {
     "duration": 0.021766,
     "end_time": "2024-01-04T13:31:21.805661",
     "exception": false,
     "start_time": "2024-01-04T13:31:21.783895",
     "status": "completed"
    },
    "tags": []
   },
   "outputs": [
    {
     "data": {
      "text/plain": [
       "<torch.utils.data.dataloader.DataLoader at 0x7e22cfb27dc0>"
      ]
     },
     "execution_count": 32,
     "metadata": {},
     "output_type": "execute_result"
    }
   ],
   "source": [
    "test_dataloader"
   ]
  },
  {
   "cell_type": "code",
   "execution_count": 33,
   "id": "bd02ea0c",
   "metadata": {
    "execution": {
     "iopub.execute_input": "2024-01-04T13:31:21.833533Z",
     "iopub.status.busy": "2024-01-04T13:31:21.832626Z",
     "iopub.status.idle": "2024-01-04T13:31:27.261488Z",
     "shell.execute_reply": "2024-01-04T13:31:27.260539Z"
    },
    "papermill": {
     "duration": 5.445046,
     "end_time": "2024-01-04T13:31:27.263536",
     "exception": false,
     "start_time": "2024-01-04T13:31:21.818490",
     "status": "completed"
    },
    "tags": []
   },
   "outputs": [
    {
     "data": {
      "text/plain": [
       "BloomForSequenceClassification(\n",
       "  (transformer): BloomModel(\n",
       "    (word_embeddings): Embedding(250880, 1024)\n",
       "    (word_embeddings_layernorm): LayerNorm((1024,), eps=1e-05, elementwise_affine=True)\n",
       "    (h): ModuleList(\n",
       "      (0-23): 24 x BloomBlock(\n",
       "        (input_layernorm): LayerNorm((1024,), eps=1e-05, elementwise_affine=True)\n",
       "        (self_attention): BloomAttention(\n",
       "          (query_key_value): Linear(in_features=1024, out_features=3072, bias=True)\n",
       "          (dense): Linear(in_features=1024, out_features=1024, bias=True)\n",
       "          (attention_dropout): Dropout(p=0.0, inplace=False)\n",
       "        )\n",
       "        (post_attention_layernorm): LayerNorm((1024,), eps=1e-05, elementwise_affine=True)\n",
       "        (mlp): BloomMLP(\n",
       "          (dense_h_to_4h): Linear(in_features=1024, out_features=4096, bias=True)\n",
       "          (gelu_impl): BloomGelu()\n",
       "          (dense_4h_to_h): Linear(in_features=4096, out_features=1024, bias=True)\n",
       "        )\n",
       "      )\n",
       "    )\n",
       "    (ln_f): LayerNorm((1024,), eps=1e-05, elementwise_affine=True)\n",
       "  )\n",
       "  (score): Linear(in_features=1024, out_features=2, bias=False)\n",
       ")"
      ]
     },
     "execution_count": 33,
     "metadata": {},
     "output_type": "execute_result"
    }
   ],
   "source": [
    "# Define the device\n",
    "device = torch.device('cuda' if torch.cuda.is_available() else 'cpu')\n",
    "\n",
    "# Move the model to the device\n",
    "model.to(device)"
   ]
  },
  {
   "cell_type": "code",
   "execution_count": 34,
   "id": "589a2913",
   "metadata": {
    "execution": {
     "iopub.execute_input": "2024-01-04T13:31:27.290877Z",
     "iopub.status.busy": "2024-01-04T13:31:27.290043Z",
     "iopub.status.idle": "2024-01-04T13:31:28.938429Z",
     "shell.execute_reply": "2024-01-04T13:31:28.937608Z"
    },
    "papermill": {
     "duration": 1.664383,
     "end_time": "2024-01-04T13:31:28.940818",
     "exception": false,
     "start_time": "2024-01-04T13:31:27.276435",
     "status": "completed"
    },
    "tags": []
   },
   "outputs": [],
   "source": [
    "import torch.nn.functional as F\n",
    "import numpy as np\n",
    "\n",
    "all_preds = []\n",
    "all_probs = []\n",
    "all_labels = []\n",
    "\n",
    "with torch.no_grad():\n",
    "    for batch in test_dataloader:\n",
    "        # Move batch to device\n",
    "        batch = {key: val.to(device) for key, val in batch.items()}\n",
    "        \n",
    "        # Forward pass\n",
    "        outputs = model(**batch)\n",
    "        \n",
    "        # Get predicted labels\n",
    "        logits = outputs.logits\n",
    "        probs = F.softmax(logits, dim=1)\n",
    "        preds = torch.argmax(logits, dim=1).cpu().numpy()\n",
    "        \n",
    "        # Collect predictions, true labels, and probabilities\n",
    "        all_preds.extend(preds)\n",
    "        all_labels.extend(batch['labels'].cpu().numpy())\n",
    "        all_probs.extend(probs.cpu().numpy())\n",
    "        \n",
    "#         print(f'predictions length= {len(all_preds)}\\n probs length = {len(all_probs)}')"
   ]
  },
  {
   "cell_type": "code",
   "execution_count": 35,
   "id": "8ebf08ad",
   "metadata": {
    "execution": {
     "iopub.execute_input": "2024-01-04T13:31:28.967957Z",
     "iopub.status.busy": "2024-01-04T13:31:28.967633Z",
     "iopub.status.idle": "2024-01-04T13:31:28.980321Z",
     "shell.execute_reply": "2024-01-04T13:31:28.979424Z"
    },
    "papermill": {
     "duration": 0.028657,
     "end_time": "2024-01-04T13:31:28.982431",
     "exception": false,
     "start_time": "2024-01-04T13:31:28.953774",
     "status": "completed"
    },
    "tags": []
   },
   "outputs": [
    {
     "data": {
      "text/html": [
       "<div>\n",
       "<style scoped>\n",
       "    .dataframe tbody tr th:only-of-type {\n",
       "        vertical-align: middle;\n",
       "    }\n",
       "\n",
       "    .dataframe tbody tr th {\n",
       "        vertical-align: top;\n",
       "    }\n",
       "\n",
       "    .dataframe thead th {\n",
       "        text-align: right;\n",
       "    }\n",
       "</style>\n",
       "<table border=\"1\" class=\"dataframe\">\n",
       "  <thead>\n",
       "    <tr style=\"text-align: right;\">\n",
       "      <th></th>\n",
       "      <th>id</th>\n",
       "      <th>generated</th>\n",
       "    </tr>\n",
       "  </thead>\n",
       "  <tbody>\n",
       "    <tr>\n",
       "      <th>0</th>\n",
       "      <td>0000aaaa</td>\n",
       "      <td>0.001273</td>\n",
       "    </tr>\n",
       "    <tr>\n",
       "      <th>1</th>\n",
       "      <td>1111bbbb</td>\n",
       "      <td>0.012865</td>\n",
       "    </tr>\n",
       "    <tr>\n",
       "      <th>2</th>\n",
       "      <td>2222cccc</td>\n",
       "      <td>0.050954</td>\n",
       "    </tr>\n",
       "  </tbody>\n",
       "</table>\n",
       "</div>"
      ],
      "text/plain": [
       "         id  generated\n",
       "0  0000aaaa   0.001273\n",
       "1  1111bbbb   0.012865\n",
       "2  2222cccc   0.050954"
      ]
     },
     "execution_count": 35,
     "metadata": {},
     "output_type": "execute_result"
    }
   ],
   "source": [
    "sub['generated'] = [x[1] for x in all_probs]\n",
    "sub.to_csv('submission.csv', index=False)\n",
    "sub"
   ]
  }
 ],
 "metadata": {
  "kaggle": {
   "accelerator": "gpu",
   "dataSources": [
    {
     "databundleVersionId": 6888007,
     "sourceId": 61542,
     "sourceType": "competition"
    },
    {
     "datasetId": 4005256,
     "sourceId": 6977472,
     "sourceType": "datasetVersion"
    },
    {
     "datasetId": 4101275,
     "sourceId": 7112464,
     "sourceType": "datasetVersion"
    },
    {
     "datasetId": 4259594,
     "sourceId": 7337095,
     "sourceType": "datasetVersion"
    }
   ],
   "dockerImageVersionId": 30627,
   "isGpuEnabled": true,
   "isInternetEnabled": false,
   "language": "python",
   "sourceType": "notebook"
  },
  "kernelspec": {
   "display_name": "Python 3",
   "language": "python",
   "name": "python3"
  },
  "language_info": {
   "codemirror_mode": {
    "name": "ipython",
    "version": 3
   },
   "file_extension": ".py",
   "mimetype": "text/x-python",
   "name": "python",
   "nbconvert_exporter": "python",
   "pygments_lexer": "ipython3",
   "version": "3.10.12"
  },
  "papermill": {
   "default_parameters": {},
   "duration": 242.662022,
   "end_time": "2024-01-04T13:31:32.515139",
   "environment_variables": {},
   "exception": null,
   "input_path": "__notebook__.ipynb",
   "output_path": "__notebook__.ipynb",
   "parameters": {},
   "start_time": "2024-01-04T13:27:29.853117",
   "version": "2.4.0"
  }
 },
 "nbformat": 4,
 "nbformat_minor": 5
}
